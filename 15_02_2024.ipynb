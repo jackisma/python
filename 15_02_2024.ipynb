{
 "cells": [
  {
   "cell_type": "code",
   "execution_count": 1,
   "metadata": {},
   "outputs": [],
   "source": [
    "# liste_1 = [4,5,6,9,85,23,65,47,32,91] listenin en küçük ve en büyük elemanını min ve max fonksiyonu kullanmadan bulun. sort fonk da kullanmayın.\n"
   ]
  },
  {
   "cell_type": "code",
   "execution_count": 11,
   "metadata": {},
   "outputs": [
    {
     "name": "stdout",
     "output_type": "stream",
     "text": [
      "4\n",
      "91\n"
     ]
    }
   ],
   "source": [
    "liste_1 = [65,47,32,91,4,5,6,9,85,23]\n",
    "\n",
    "x = 0\n",
    "\n",
    "min_sayı = liste_1[0]\n",
    "max_sayı = liste_1[0]\n",
    "while x < len(liste_1):\n",
    "\n",
    "    if min_sayı > liste_1[x]:\n",
    "        min_sayı = liste_1[x]\n",
    "\n",
    "    elif max_sayı < liste_1[x]:\n",
    "        max_sayı = liste_1[x]\n",
    "    x += 1\n",
    "\n",
    "print(min_sayı) \n",
    "print(max_sayı)"
   ]
  },
  {
   "cell_type": "code",
   "execution_count": 12,
   "metadata": {},
   "outputs": [
    {
     "name": "stdout",
     "output_type": "stream",
     "text": [
      "4\n",
      "91\n"
     ]
    }
   ],
   "source": [
    "liste_1 = [65,47,32,91,4,5,6,9,85,23]\n",
    "\n",
    "x = 0\n",
    "\n",
    "min_sayı = liste_1[0]\n",
    "max_sayı = liste_1[0]\n",
    "while x < len(liste_1):\n",
    "\n",
    "    if min_sayı > liste_1[x]:\n",
    "        min_sayı = liste_1[x]\n",
    "\n",
    "    if max_sayı < liste_1[x]:\n",
    "        max_sayı = liste_1[x]\n",
    "    x += 1\n",
    "\n",
    "print(min_sayı) \n",
    "print(max_sayı)"
   ]
  },
  {
   "cell_type": "markdown",
   "metadata": {},
   "source": [
    "# for"
   ]
  },
  {
   "cell_type": "markdown",
   "metadata": {},
   "source": [
    "* for döngüsü iterable lar ile çalışır."
   ]
  },
  {
   "cell_type": "code",
   "execution_count": null,
   "metadata": {},
   "outputs": [],
   "source": [
    "\"e\" in \"hello\"  #e karakteri hellonun içinde var mı diye sorduk."
   ]
  },
  {
   "cell_type": "code",
   "execution_count": null,
   "metadata": {},
   "outputs": [],
   "source": [
    "\"a\" in \"hello\" "
   ]
  },
  {
   "cell_type": "code",
   "execution_count": 15,
   "metadata": {},
   "outputs": [
    {
     "name": "stdout",
     "output_type": "stream",
     "text": [
      "t - tt\n",
      "e - ee\n",
      "c - cc\n",
      "h - hh\n",
      "p - pp\n",
      "r - rr\n",
      "o - oo\n"
     ]
    }
   ],
   "source": [
    "for i in \"techpro\":\n",
    "    print(i, \"-\", i *2)"
   ]
  },
  {
   "cell_type": "code",
   "execution_count": 20,
   "metadata": {},
   "outputs": [
    {
     "name": "stdout",
     "output_type": "stream",
     "text": [
      "t - tt\n",
      "e - ee\n",
      "c - cc\n",
      "h - hh\n",
      "p - pp\n",
      "r - rr\n",
      "o - oo\n"
     ]
    }
   ],
   "source": [
    "for k in \"techpro\":\n",
    "    print(k, \"-\", k *2)"
   ]
  },
  {
   "cell_type": "code",
   "execution_count": 30,
   "metadata": {},
   "outputs": [
    {
     "name": "stdout",
     "output_type": "stream",
     "text": [
      "1\n",
      "4\n",
      "9\n",
      "16\n",
      "25\n"
     ]
    }
   ],
   "source": [
    "liste_2 = [1, 2, 3, 4, 5]\n",
    "\n",
    "for i in liste_2:\n",
    "    print(i ** 2)"
   ]
  },
  {
   "cell_type": "code",
   "execution_count": 31,
   "metadata": {},
   "outputs": [
    {
     "name": "stdout",
     "output_type": "stream",
     "text": [
      "1\n",
      "4\n",
      "9\n",
      "16\n",
      "25\n"
     ]
    }
   ],
   "source": [
    "x = 0 \n",
    "\n",
    "while x < len(liste_2):\n",
    "    \n",
    "    print(liste_2[x] ** 2)\n",
    "\n",
    "    x += 1"
   ]
  },
  {
   "cell_type": "code",
   "execution_count": 38,
   "metadata": {},
   "outputs": [
    {
     "name": "stdout",
     "output_type": "stream",
     "text": [
      "1 sayısının karesi: 1♥♥♥♥2 sayısının karesi: 4♥♥♥♥3 sayısının karesi: 9♥♥♥♥4 sayısının karesi: 16♥♥♥♥5 sayısının karesi: 25♥♥♥♥"
     ]
    }
   ],
   "source": [
    "for i in (1, 2, 3, 4, 5):\n",
    "    print(f\"{i} sayısının karesi: {i ** 2}\", end=\"♥♥♥♥\")"
   ]
  },
  {
   "cell_type": "code",
   "execution_count": 36,
   "metadata": {},
   "outputs": [
    {
     "ename": "TypeError",
     "evalue": "'int' object is not iterable",
     "output_type": "error",
     "traceback": [
      "\u001b[1;31m---------------------------------------------------------------------------\u001b[0m",
      "\u001b[1;31mTypeError\u001b[0m                                 Traceback (most recent call last)",
      "Cell \u001b[1;32mIn[36], line 1\u001b[0m\n\u001b[1;32m----> 1\u001b[0m \u001b[38;5;28;43;01mfor\u001b[39;49;00m\u001b[43m \u001b[49m\u001b[43mi\u001b[49m\u001b[43m \u001b[49m\u001b[38;5;129;43;01min\u001b[39;49;00m\u001b[43m \u001b[49m\u001b[38;5;241;43m1453\u001b[39;49m\u001b[43m:\u001b[49m\u001b[43m \u001b[49m\u001b[38;5;66;43;03m# int lar iterable olmadığı için for döngüsü çalıştırmaz\u001b[39;49;00m\n\u001b[0;32m      2\u001b[0m \u001b[43m    \u001b[49m\u001b[38;5;28;43mprint\u001b[39;49m\u001b[43m(\u001b[49m\u001b[43mi\u001b[49m\u001b[43m)\u001b[49m\n",
      "\u001b[1;31mTypeError\u001b[0m: 'int' object is not iterable"
     ]
    }
   ],
   "source": [
    "for i in 1453: # int lar iterable olmadığı için for döngüsü çalıştırmaz\n",
    "    print(i)"
   ]
  },
  {
   "cell_type": "code",
   "execution_count": 2,
   "metadata": {},
   "outputs": [],
   "source": [
    "isimler_listesi = [\"irem\", \"cihan\", \"bahar\", \"metehan\"]"
   ]
  },
  {
   "cell_type": "code",
   "execution_count": 6,
   "metadata": {},
   "outputs": [
    {
     "name": "stdout",
     "output_type": "stream",
     "text": [
      "IREM\n",
      "CIHAN\n",
      "BAHAR\n",
      "METEHAN\n"
     ]
    }
   ],
   "source": [
    "for i in isimler_listesi:\n",
    "    print(i.upper())"
   ]
  },
  {
   "cell_type": "code",
   "execution_count": 41,
   "metadata": {},
   "outputs": [
    {
     "name": "stdout",
     "output_type": "stream",
     "text": [
      "Irem\n",
      "Cihan\n",
      "Bahar\n",
      "Metehan\n"
     ]
    }
   ],
   "source": [
    "for i in isimler_listesi:\n",
    "    print(i.capitalize())"
   ]
  },
  {
   "cell_type": "code",
   "execution_count": 44,
   "metadata": {},
   "outputs": [
    {
     "data": {
      "text/plain": [
       "['irem', 'cihan', 'bahar', 'metehan']"
      ]
     },
     "execution_count": 44,
     "metadata": {},
     "output_type": "execute_result"
    }
   ],
   "source": [
    "isimler_listesi"
   ]
  },
  {
   "cell_type": "code",
   "execution_count": null,
   "metadata": {},
   "outputs": [],
   "source": [
    "\"Techpro\"\n",
    "\n",
    "\"T-e-c-h-p-r-o\""
   ]
  },
  {
   "cell_type": "code",
   "execution_count": 12,
   "metadata": {},
   "outputs": [
    {
     "name": "stdout",
     "output_type": "stream",
     "text": [
      "t-e-c-h-p-r-o\n"
     ]
    }
   ],
   "source": [
    "empty_str = \"\"\n",
    "\n",
    "for i in \"techpro\":\n",
    "    empty_str += i +\"-\"\n",
    "print(empty_str.rstrip(\"-\"))"
   ]
  },
  {
   "cell_type": "code",
   "execution_count": 50,
   "metadata": {},
   "outputs": [
    {
     "name": "stdout",
     "output_type": "stream",
     "text": [
      "T-e-c-h-p-r-o\n"
     ]
    }
   ],
   "source": [
    "empty_str = \"\"\n",
    "\n",
    "for i in \"Techpro\":\n",
    "    empty_str += i + \"-\"\n",
    "\n",
    "print(empty_str.rstrip(\"-\"))"
   ]
  },
  {
   "cell_type": "code",
   "execution_count": 51,
   "metadata": {},
   "outputs": [
    {
     "data": {
      "text/plain": [
       "{'name': 'dilek', 'age': 26, 'job': 'data_scientist'}"
      ]
     },
     "execution_count": 51,
     "metadata": {},
     "output_type": "execute_result"
    }
   ],
   "source": [
    "dict_1 = {\"name\" : \"dilek\", \"age\": 26, \"job\": \"data_scientist\"}\n",
    "dict_1"
   ]
  },
  {
   "cell_type": "code",
   "execution_count": 52,
   "metadata": {},
   "outputs": [
    {
     "name": "stdout",
     "output_type": "stream",
     "text": [
      "name\n",
      "age\n",
      "job\n"
     ]
    }
   ],
   "source": [
    "for i in dict_1:\n",
    "    print(i)      #keylerine ulaştık i fonk ile"
   ]
  },
  {
   "cell_type": "code",
   "execution_count": 55,
   "metadata": {},
   "outputs": [
    {
     "name": "stdout",
     "output_type": "stream",
     "text": [
      "dilek\n",
      "26\n",
      "data_scientist\n"
     ]
    }
   ],
   "source": [
    "for i in dict_1.values():\n",
    "    print(i)"
   ]
  },
  {
   "cell_type": "code",
   "execution_count": 57,
   "metadata": {},
   "outputs": [
    {
     "data": {
      "text/plain": [
       "dict_items([('name', 'dilek'), ('age', 26), ('job', 'data_scientist')])"
      ]
     },
     "execution_count": 57,
     "metadata": {},
     "output_type": "execute_result"
    }
   ],
   "source": [
    "dict_1.items()"
   ]
  },
  {
   "cell_type": "code",
   "execution_count": 56,
   "metadata": {},
   "outputs": [
    {
     "name": "stdout",
     "output_type": "stream",
     "text": [
      "('name', 'dilek')\n",
      "('age', 26)\n",
      "('job', 'data_scientist')\n"
     ]
    }
   ],
   "source": [
    "for i in dict_1.items():\n",
    "    print(i)"
   ]
  },
  {
   "cell_type": "code",
   "execution_count": 59,
   "metadata": {},
   "outputs": [
    {
     "name": "stdout",
     "output_type": "stream",
     "text": [
      "name♥♥♥dilek\n",
      "age♥♥♥26\n",
      "job♥♥♥data_scientist\n"
     ]
    }
   ],
   "source": [
    "for i,j in dict_1.items():\n",
    "    print(i,j,sep=\"♥♥♥\")"
   ]
  },
  {
   "cell_type": "code",
   "execution_count": 60,
   "metadata": {},
   "outputs": [
    {
     "name": "stdout",
     "output_type": "stream",
     "text": [
      "key: name, value: dilek\n",
      "key: age, value: 26\n",
      "key: job, value: data_scientist\n"
     ]
    }
   ],
   "source": [
    "for i,j in dict_1.items():\n",
    "    print(f\"key: {i}, value: {j}\")"
   ]
  },
  {
   "cell_type": "code",
   "execution_count": 63,
   "metadata": {},
   "outputs": [
    {
     "data": {
      "text/plain": [
       "{'name': 'dilek', 'surname': 'yılmaz', 'age': 26, 'job': 'data_scientist'}"
      ]
     },
     "execution_count": 63,
     "metadata": {},
     "output_type": "execute_result"
    }
   ],
   "source": [
    "dict_3 = {\"name\" : \"dilek\",\"surname\": \"yılmaz\", \"age\": 26, \"job\": \"data_scientist\"}\n",
    "dict_3"
   ]
  },
  {
   "cell_type": "code",
   "execution_count": 64,
   "metadata": {},
   "outputs": [
    {
     "name": "stdout",
     "output_type": "stream",
     "text": [
      "key: name, value: dilek\n",
      "key: surname, value: yılmaz\n",
      "key: age, value: 26\n",
      "key: job, value: data_scientist\n"
     ]
    }
   ],
   "source": [
    "for i,j in dict_3.items():\n",
    "    print(f\"key: {i}, value: {j}\")"
   ]
  },
  {
   "cell_type": "code",
   "execution_count": 69,
   "metadata": {},
   "outputs": [
    {
     "name": "stdout",
     "output_type": "stream",
     "text": [
      "key: name           , value: dilek\n",
      "key: surname        , value: yılmaz\n",
      "key: age            , value: 26\n",
      "key: job            , value: data_scientist\n"
     ]
    }
   ],
   "source": [
    "for i,j in dict_3.items():           #10 karakter aç ve sola yasla dedik\n",
    "    print(f\"key: {i:<10}, value: {j}\")"
   ]
  },
  {
   "cell_type": "code",
   "execution_count": 72,
   "metadata": {},
   "outputs": [
    {
     "name": "stdout",
     "output_type": "stream",
     "text": [
      "key:       name, value:      dilek     \n",
      "key:    surname, value:     yılmaz     \n",
      "key:        age, value:       26       \n",
      "key:        job, value: data_scientist \n"
     ]
    }
   ],
   "source": [
    "for i,j in dict_3.items():           #10 karakter aç ve sağa yasla dedik ve diğerini ortaladık\n",
    "    print(f\"key: {i:>10}, value: {j:^15}\")"
   ]
  },
  {
   "cell_type": "code",
   "execution_count": 73,
   "metadata": {},
   "outputs": [
    {
     "ename": "TypeError",
     "evalue": "'bool' object is not iterable",
     "output_type": "error",
     "traceback": [
      "\u001b[1;31m---------------------------------------------------------------------------\u001b[0m",
      "\u001b[1;31mTypeError\u001b[0m                                 Traceback (most recent call last)",
      "Cell \u001b[1;32mIn[73], line 1\u001b[0m\n\u001b[1;32m----> 1\u001b[0m \u001b[38;5;28;43;01mfor\u001b[39;49;00m\u001b[43m \u001b[49m\u001b[43mi\u001b[49m\u001b[43m \u001b[49m\u001b[38;5;129;43;01min\u001b[39;49;00m\u001b[43m \u001b[49m\u001b[38;5;28;43;01mTrue\u001b[39;49;00m\u001b[43m:\u001b[49m\n\u001b[0;32m      2\u001b[0m \u001b[43m    \u001b[49m\u001b[38;5;28;43mprint\u001b[39;49m\u001b[43m(\u001b[49m\u001b[43mi\u001b[49m\u001b[43m)\u001b[49m\n",
      "\u001b[1;31mTypeError\u001b[0m: 'bool' object is not iterable"
     ]
    }
   ],
   "source": [
    "for i in True:\n",
    "    print(i)"
   ]
  },
  {
   "cell_type": "code",
   "execution_count": null,
   "metadata": {},
   "outputs": [],
   "source": [
    "liste = [\"sonsuz döngü\"]    # for ile sonsuza gider\n",
    "for i in liste:\n",
    "    print(i)\n",
    "    liste.append(i)"
   ]
  },
  {
   "cell_type": "code",
   "execution_count": 77,
   "metadata": {},
   "outputs": [
    {
     "data": {
      "text/plain": [
       "'      techpro       '"
      ]
     },
     "execution_count": 77,
     "metadata": {},
     "output_type": "execute_result"
    }
   ],
   "source": [
    "\"techpro\".center(20)"
   ]
  },
  {
   "cell_type": "code",
   "execution_count": 78,
   "metadata": {},
   "outputs": [
    {
     "data": {
      "text/plain": [
       "'             techpro'"
      ]
     },
     "execution_count": 78,
     "metadata": {},
     "output_type": "execute_result"
    }
   ],
   "source": [
    "\"techpro\".rjust(20)"
   ]
  },
  {
   "cell_type": "code",
   "execution_count": 79,
   "metadata": {},
   "outputs": [
    {
     "data": {
      "text/plain": [
       "'techpro             '"
      ]
     },
     "execution_count": 79,
     "metadata": {},
     "output_type": "execute_result"
    }
   ],
   "source": [
    "\"techpro\".ljust(20)"
   ]
  },
  {
   "cell_type": "code",
   "execution_count": null,
   "metadata": {},
   "outputs": [],
   "source": [
    "# 50 tane alt alta \"hoca bize ceza verdi\" diye yaz. Yanına da numaralandır"
   ]
  },
  {
   "cell_type": "code",
   "execution_count": 18,
   "metadata": {},
   "outputs": [
    {
     "name": "stdout",
     "output_type": "stream",
     "text": [
      "1. hoca ceza verdi\n",
      "2. hoca ceza verdi\n",
      "3. hoca ceza verdi\n",
      "4. hoca ceza verdi\n",
      "5. hoca ceza verdi\n",
      "6. hoca ceza verdi\n",
      "7. hoca ceza verdi\n",
      "8. hoca ceza verdi\n",
      "9. hoca ceza verdi\n",
      "10. hoca ceza verdi\n",
      "11. hoca ceza verdi\n",
      "12. hoca ceza verdi\n",
      "13. hoca ceza verdi\n",
      "14. hoca ceza verdi\n",
      "15. hoca ceza verdi\n",
      "16. hoca ceza verdi\n",
      "17. hoca ceza verdi\n",
      "18. hoca ceza verdi\n",
      "19. hoca ceza verdi\n",
      "20. hoca ceza verdi\n",
      "21. hoca ceza verdi\n",
      "22. hoca ceza verdi\n",
      "23. hoca ceza verdi\n",
      "24. hoca ceza verdi\n",
      "25. hoca ceza verdi\n",
      "26. hoca ceza verdi\n",
      "27. hoca ceza verdi\n",
      "28. hoca ceza verdi\n",
      "29. hoca ceza verdi\n",
      "30. hoca ceza verdi\n",
      "31. hoca ceza verdi\n",
      "32. hoca ceza verdi\n",
      "33. hoca ceza verdi\n",
      "34. hoca ceza verdi\n",
      "35. hoca ceza verdi\n",
      "36. hoca ceza verdi\n",
      "37. hoca ceza verdi\n",
      "38. hoca ceza verdi\n",
      "39. hoca ceza verdi\n",
      "40. hoca ceza verdi\n",
      "41. hoca ceza verdi\n",
      "42. hoca ceza verdi\n",
      "43. hoca ceza verdi\n",
      "44. hoca ceza verdi\n",
      "45. hoca ceza verdi\n",
      "46. hoca ceza verdi\n",
      "47. hoca ceza verdi\n",
      "48. hoca ceza verdi\n",
      "49. hoca ceza verdi\n",
      "50. hoca ceza verdi\n"
     ]
    }
   ],
   "source": [
    "for i in range(1, 51):\n",
    "    print(f\"{i}. hoca ceza verdi\")"
   ]
  },
  {
   "cell_type": "code",
   "execution_count": null,
   "metadata": {},
   "outputs": [],
   "source": [
    "ödev1: Kullanıcıdan 1(dahil) ve 9(dahil) arasında bir sayı isteyin. bu sayının çarpım tablosunu oluşturun.\n",
    "ödev2: Kullanıcıdan 1(dahil) ve 9(dahil) arasında bir sayı isteyin. bu sayının çarpım tablosunu oluşturun. Kullanıcı bu aralıktan farklı bir değer girdiyse tekrar doğru değeri girmesini isteyin."
   ]
  },
  {
   "cell_type": "code",
   "execution_count": 11,
   "metadata": {},
   "outputs": [
    {
     "name": "stdout",
     "output_type": "stream",
     "text": [
      "8 çarpım tablosu:\n",
      "8 x 1 = 8\n",
      "8 x 2 = 16\n",
      "8 x 3 = 24\n",
      "8 x 4 = 32\n",
      "8 x 5 = 40\n",
      "8 x 6 = 48\n",
      "8 x 7 = 56\n",
      "8 x 8 = 64\n",
      "8 x 9 = 72\n",
      "8 x 10 = 80\n"
     ]
    }
   ],
   "source": [
    "sayı = int(input(\"1 ile 10 arasında bir sayı yazınız\"))\n",
    "\n",
    "if 1 <= sayı <= 9:\n",
    "\n",
    "    print(f\"{sayı} çarpım tablosu:\")          #Chat GPT cevap\n",
    "\n",
    "    for i in range(1, 11):\n",
    "        carpım = sayı * i\n",
    "        print(f\"{sayı} x {i} = {carpım}\")\n",
    "\n",
    "else:\n",
    "    print(\"Lütfen 1 ile 9 arasında bir sayı giriniz.\")"
   ]
  },
  {
   "cell_type": "code",
   "execution_count": 13,
   "metadata": {},
   "outputs": [
    {
     "name": "stdout",
     "output_type": "stream",
     "text": [
      "8 x 1  = 8\n",
      "8 x 2  = 16\n",
      "8 x 3  = 24\n",
      "8 x 4  = 32\n",
      "8 x 5  = 40\n",
      "8 x 6  = 48\n",
      "8 x 7  = 56\n",
      "8 x 8  = 64\n",
      "8 x 9  = 72\n",
      "8 x 10 = 80\n"
     ]
    }
   ],
   "source": [
    "number = int(input(\"1 ile 10 arasında bir sayı yazınız\"))\n",
    "\n",
    "if 1 <= number <= 9:\n",
    "\n",
    "    for i in range(1, 11):                        #Hocanın cevap\n",
    "        \n",
    "        print(f\"{number} x {i:<2} = {number * i}\")\n",
    "\n",
    "else:\n",
    "    print(\"Lütfen 1 ile 9 arasında bir sayı giriniz.\")"
   ]
  },
  {
   "cell_type": "code",
   "execution_count": 16,
   "metadata": {},
   "outputs": [
    {
     "name": "stdout",
     "output_type": "stream",
     "text": [
      "8 x 1  = 8\n",
      "8 x 2  = 16\n",
      "8 x 3  = 24\n",
      "8 x 4  = 32\n",
      "8 x 5  = 40\n",
      "8 x 6  = 48\n",
      "8 x 7  = 56\n",
      "8 x 8  = 64\n",
      "8 x 9  = 72\n",
      "8 x 10 = 80\n"
     ]
    }
   ],
   "source": [
    "number = int(input(\"1 ile 10 arasında bir sayı yazınız\"))\n",
    "\n",
    "if 1 <= number <= 9:\n",
    "\n",
    "    for i in range(1, 11):\n",
    "        çarpım = number * i                                #alternatif uzun yol\n",
    "        print(f\"{number} x {i:<2} = {çarpım}\")\n",
    "\n",
    "else:\n",
    "    print(\"Lütfen 1 ile 9 arasında bir sayı giriniz.\")"
   ]
  },
  {
   "cell_type": "code",
   "execution_count": 25,
   "metadata": {},
   "outputs": [
    {
     "name": "stdout",
     "output_type": "stream",
     "text": [
      "Hatalı giriş! Lütfen 1 ile 9 arasında bir sayı girin.\n"
     ]
    }
   ],
   "source": [
    "x = int(input(\"Çarpım tablosunu oluşturmak için 1 ile 9 arasında bir sayı girin: \"))\n",
    "\n",
    "if 1<= x <=10:\n",
    "    print(f\"{x}in carpim_tablosu\")\n",
    "    i = 1\n",
    "\n",
    "    while i <= 10:                            #for olmadan cevap Chat GPT\n",
    "        print(f\"{x} x {i} = {x * i}\")\n",
    "        i += 1\n",
    "else:\n",
    "    print(\"Hatalı giriş! Lütfen 1 ile 9 arasında bir sayı girin.\")"
   ]
  },
  {
   "cell_type": "code",
   "execution_count": null,
   "metadata": {},
   "outputs": [],
   "source": [
    "sayı = int(input(\"1 ile 9 arasında bir sayı giriniz.\"))\n",
    "\n",
    "if 0 <= sayı <= 9:\n",
    "\n",
    "    print(f\"{sayı} çarpım tablosu:\")\n",
    "\n",
    "    for i in range(1, 10):\n",
    "        print(f\"{sayı} x {i} = {sayı * i}\")\n",
    "        \n",
    "else:\n",
    "    print(\"1 ile 10 arasında sayı girin\")"
   ]
  },
  {
   "cell_type": "code",
   "execution_count": 21,
   "metadata": {},
   "outputs": [
    {
     "name": "stdout",
     "output_type": "stream",
     "text": [
      "Lütfen 1 ile 9 arasında bir sayı giriniz.\n",
      "Lütfen 1 ile 9 arasında bir sayı giriniz.\n",
      "Lütfen 1 ile 9 arasında bir sayı giriniz.\n",
      "2 x 1  = 2\n",
      "2 x 2  = 4\n",
      "2 x 3  = 6\n",
      "2 x 4  = 8\n",
      "2 x 5  = 10\n",
      "2 x 6  = 12\n",
      "2 x 7  = 14\n",
      "2 x 8  = 16\n",
      "2 x 9  = 18\n",
      "2 x 10 = 20\n"
     ]
    }
   ],
   "source": [
    "#ödev2: Kullanıcıdan 1(dahil) ve 9(dahil) arasında bir sayı isteyin. bu sayının çarpım tablosunu oluşturun. Kullanıcı bu aralıktan farklı bir değer girdiyse tekrar doğru değeri girmesini isteyin.\n",
    "\n",
    "while True:\n",
    "    number = int(input(\"1 ile 10 arasında bir sayı yazınız\"))\n",
    "\n",
    "    if 1 <= number <= 9:\n",
    "\n",
    "        for i in range(1, 11):\n",
    "\n",
    "            print(f\"{number} x {i:<2} = {number * i}\")\n",
    "\n",
    "        break\n",
    "\n",
    "    else:\n",
    "        print(\"Lütfen 1 ile 9 arasında bir sayı giriniz.\")"
   ]
  },
  {
   "cell_type": "code",
   "execution_count": null,
   "metadata": {},
   "outputs": [],
   "source": [
    "#ödev 2 çözüm 2 deneme hakkı = 3\n",
    "\n",
    "sayaç = 0\n",
    "\n",
    "while True:\n",
    "\n",
    "    number = int(input(\"bir sayı girin.1 ve 9 arasında\"))\n",
    "\n",
    "    sayaç += 1\n",
    "\n",
    "    if 1 <= number <= 9:\n",
    "\n",
    "        for i in [1,2,3,4,5,6,7,8,9,10]:\n",
    "\n",
    "            print(f\"{number} x {i:<2} = {number * i}\")\n",
    "\n",
    "        break\n",
    "\n",
    "    else:\n",
    "        print(\"girdiğiniz sayı 1 ile 9 arasında değil. Tekrar sayı girin.\")\n",
    "\n",
    "    if sayaç == 3:\n",
    "        break"
   ]
  },
  {
   "cell_type": "code",
   "execution_count": 35,
   "metadata": {},
   "outputs": [
    {
     "name": "stdout",
     "output_type": "stream",
     "text": [
      "1 ile 10 arasında sayı girin. 3 hakkınız vardır.\n",
      "1 ile 10 arasında sayı girin. 3 hakkınız vardır.\n",
      "1 ile 10 arasında sayı girin. 3 hakkınız vardır.\n",
      "3 hakkınız tükenmiştir\n"
     ]
    }
   ],
   "source": [
    "sayaç = 0\n",
    "while True:\n",
    "    sayı = int(input(\"1 ile 9 arasında bir sayı giriniz.\"))\n",
    "    sayaç += 1\n",
    "    if 0 <= sayı <= 9:\n",
    "        for i in range(1, 10):\n",
    "            print(f\"{sayı} x {i} = {sayı * i}\")\n",
    "        break\n",
    "    else:\n",
    "        print(\"1 ile 10 arasında sayı girin. 3 hakkınız vardır.\")\n",
    "    if sayaç == 3:\n",
    "        print(\"3 hakkınız tükenmiştir\")\n",
    "        break"
   ]
  },
  {
   "cell_type": "code",
   "execution_count": 3,
   "metadata": {},
   "outputs": [
    {
     "name": "stdout",
     "output_type": "stream",
     "text": [
      "Hatalı tuşlama yaptınız ! Lütfen 1 ile 9 arasında bir sayı giriniz.\n",
      "1 x 1 = 1\n",
      "1 x 2 = 2\n",
      "1 x 3 = 3\n",
      "1 x 4 = 4\n",
      "1 x 5 = 5\n",
      "1 x 6 = 6\n",
      "1 x 7 = 7\n",
      "1 x 8 = 8\n",
      "1 x 9 = 9\n"
     ]
    }
   ],
   "source": [
    "bool=True\n",
    "\n",
    "while bool :\n",
    "\n",
    "    number=int(input(\"Lütfen 1 ile 9 arasında bir değer giiriniz :\"))\n",
    "\n",
    "    if number>=1 and number<10:\n",
    "\n",
    "        for i in range(1,10):\n",
    "            print(f\"{number} x {i} = {number*i}\")\n",
    "\n",
    "            bool=False\n",
    "\n",
    "\n",
    "    else:print(\"Hatalı tuşlama yaptınız ! Lütfen 1 ile 9 arasında bir sayı giriniz.\")"
   ]
  },
  {
   "cell_type": "code",
   "execution_count": null,
   "metadata": {},
   "outputs": [],
   "source": []
  }
 ],
 "metadata": {
  "kernelspec": {
   "display_name": "Python 3",
   "language": "python",
   "name": "python3"
  },
  "language_info": {
   "codemirror_mode": {
    "name": "ipython",
    "version": 3
   },
   "file_extension": ".py",
   "mimetype": "text/x-python",
   "name": "python",
   "nbconvert_exporter": "python",
   "pygments_lexer": "ipython3",
   "version": "3.11.8"
  }
 },
 "nbformat": 4,
 "nbformat_minor": 2
}
