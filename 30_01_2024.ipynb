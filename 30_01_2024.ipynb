{
 "cells": [
  {
   "cell_type": "markdown",
   "metadata": {},
   "source": [
    "### Print () Function"
   ]
  },
  {
   "cell_type": "code",
   "execution_count": 1,
   "metadata": {},
   "outputs": [
    {
     "name": "stdout",
     "output_type": "stream",
     "text": [
      "TechPro Education\n"
     ]
    }
   ],
   "source": [
    "print(\"TechPro Education\")"
   ]
  },
  {
   "cell_type": "code",
   "execution_count": 2,
   "metadata": {},
   "outputs": [
    {
     "name": "stdout",
     "output_type": "stream",
     "text": [
      "ela shila alisa\n"
     ]
    }
   ],
   "source": [
    "print(\"ela\" , \"shila\" , \"alisa\")"
   ]
  },
  {
   "cell_type": "code",
   "execution_count": 4,
   "metadata": {},
   "outputs": [
    {
     "name": "stdout",
     "output_type": "stream",
     "text": [
      "ela**shila**alisa\n"
     ]
    }
   ],
   "source": [
    "print(\"ela\" , \"shila\" , \"alisa\"  , sep=\"**\")  #sep değişkenleri ayırır seperate yapar"
   ]
  },
  {
   "cell_type": "code",
   "execution_count": 5,
   "metadata": {},
   "outputs": [
    {
     "name": "stdout",
     "output_type": "stream",
     "text": [
      "ela-shila-alisa\n"
     ]
    }
   ],
   "source": [
    "print(\"ela\" , \"shila\" , \"alisa\"  , sep=\"-\") "
   ]
  },
  {
   "cell_type": "code",
   "execution_count": 7,
   "metadata": {},
   "outputs": [
    {
     "name": "stdout",
     "output_type": "stream",
     "text": [
      "ela-and-shila-and-alisa\n"
     ]
    }
   ],
   "source": [
    "print(\"ela\" , \"shila\" , \"alisa\"  , sep=\"-and-\") "
   ]
  },
  {
   "cell_type": "code",
   "execution_count": 8,
   "metadata": {},
   "outputs": [
    {
     "name": "stdout",
     "output_type": "stream",
     "text": [
      "ela'shila'alisa\n"
     ]
    }
   ],
   "source": [
    "print(\"ela\" , \"shila\" , \"alisa\"  , sep=\"'\") "
   ]
  },
  {
   "cell_type": "code",
   "execution_count": 9,
   "metadata": {},
   "outputs": [
    {
     "name": "stdout",
     "output_type": "stream",
     "text": [
      "ela😀shila😀alisa\n"
     ]
    }
   ],
   "source": [
    "print(\"ela\" , \"shila\" , \"alisa\"  , sep=\"\\U0001F600\") "
   ]
  },
  {
   "cell_type": "code",
   "execution_count": 10,
   "metadata": {},
   "outputs": [
    {
     "name": "stdout",
     "output_type": "stream",
     "text": [
      "Help on built-in function print in module builtins:\n",
      "\n",
      "print(*args, sep=' ', end='\\n', file=None, flush=False)\n",
      "    Prints the values to a stream, or to sys.stdout by default.\n",
      "    \n",
      "    sep\n",
      "      string inserted between values, default a space.\n",
      "    end\n",
      "      string appended after the last value, default a newline.\n",
      "    file\n",
      "      a file-like object (stream); defaults to the current sys.stdout.\n",
      "    flush\n",
      "      whether to forcibly flush the stream.\n",
      "\n"
     ]
    }
   ],
   "source": [
    "help(print)  #açıklamalar için help fonksiyonu kullanılır"
   ]
  },
  {
   "cell_type": "code",
   "execution_count": 13,
   "metadata": {},
   "outputs": [
    {
     "name": "stdout",
     "output_type": "stream",
     "text": [
      "orkun**sedat\n",
      "aytaç\n"
     ]
    }
   ],
   "source": [
    "print(\"orkun\", end=\"**\")\n",
    "print(\"sedat\")\n",
    "print(\"aytaç\")"
   ]
  },
  {
   "cell_type": "code",
   "execution_count": 14,
   "metadata": {},
   "outputs": [
    {
     "name": "stdout",
     "output_type": "stream",
     "text": [
      "orkun\n",
      "sedat\n",
      "aytaç\n"
     ]
    }
   ],
   "source": [
    "print(\"orkun\", end=\"\\n\")\n",
    "print(\"sedat\")\n",
    "print(\"aytaç\")"
   ]
  },
  {
   "cell_type": "code",
   "execution_count": 18,
   "metadata": {},
   "outputs": [
    {
     "name": "stdout",
     "output_type": "stream",
     "text": [
      "betül!!zeynep\n"
     ]
    }
   ],
   "source": [
    "print(\"betül\", end=\"!!\")  #end ifadesi ile bir alt satıra geçemeden yan yana yazdı\n",
    "print(\"zeynep\")   #end parametresi gizli var kodda. biz onu değiştirdiimiz zaman aşağı satıra gecme fonk yitirilmiş oldu"
   ]
  },
  {
   "cell_type": "code",
   "execution_count": 24,
   "metadata": {},
   "outputs": [
    {
     "name": "stdout",
     "output_type": "stream",
     "text": [
      "betül!zeynep*mustafa--ali\n"
     ]
    }
   ],
   "source": [
    "print(\"betül\", end=\"!\") \n",
    "print(\"zeynep\", end=\"*\")\n",
    "print(\"mustafa\", \"ali\", sep=\"--\")"
   ]
  },
  {
   "cell_type": "code",
   "execution_count": 20,
   "metadata": {},
   "outputs": [
    {
     "name": "stdout",
     "output_type": "stream",
     "text": [
      "betül!zeynep*mustafa--ali%%"
     ]
    }
   ],
   "source": [
    "print(\"betül\", end=\"!\") \n",
    "print(\"zeynep\", end=\"*\")\n",
    "print(\"mustafa\", \"ali\", sep=\"--\", end=\"%%\")"
   ]
  },
  {
   "cell_type": "code",
   "execution_count": 22,
   "metadata": {},
   "outputs": [
    {
     "name": "stdout",
     "output_type": "stream",
     "text": [
      "elma\n",
      "portakal\n",
      "armut\n"
     ]
    }
   ],
   "source": [
    "print(\"elma\", \"portakal\", \"armut\", sep=\"\\n\") #\\n ile kod her zaman alta iner"
   ]
  },
  {
   "cell_type": "code",
   "execution_count": 27,
   "metadata": {},
   "outputs": [
    {
     "name": "stdout",
     "output_type": "stream",
     "text": [
      "hello wolrd--35**40**75\n",
      "son satır\n"
     ]
    }
   ],
   "source": [
    "print(\"hello wolrd\", end=\"--\")\n",
    "print(\"35\", 40, \"75\", sep=\"**\")  #SORU İDİ\n",
    "print(\"son satır\")"
   ]
  },
  {
   "cell_type": "markdown",
   "metadata": {},
   "source": [
    "# input()"
   ]
  },
  {
   "cell_type": "code",
   "execution_count": 28,
   "metadata": {},
   "outputs": [
    {
     "data": {
      "text/plain": [
       "<bound method Kernel.raw_input of <ipykernel.ipkernel.IPythonKernel object at 0x0000021322E71E10>>"
      ]
     },
     "execution_count": 28,
     "metadata": {},
     "output_type": "execute_result"
    }
   ],
   "source": [
    "input"
   ]
  },
  {
   "cell_type": "code",
   "execution_count": 29,
   "metadata": {},
   "outputs": [
    {
     "data": {
      "text/plain": [
       "'32'"
      ]
     },
     "execution_count": 29,
     "metadata": {},
     "output_type": "execute_result"
    }
   ],
   "source": [
    "input()"
   ]
  },
  {
   "cell_type": "code",
   "execution_count": 31,
   "metadata": {},
   "outputs": [
    {
     "data": {
      "text/plain": [
       "'True'"
      ]
     },
     "execution_count": 31,
     "metadata": {},
     "output_type": "execute_result"
    }
   ],
   "source": [
    "input()  #input ile alınan bütün veriler stringdir"
   ]
  },
  {
   "cell_type": "code",
   "execution_count": 32,
   "metadata": {},
   "outputs": [
    {
     "data": {
      "text/plain": [
       "'26'"
      ]
     },
     "execution_count": 32,
     "metadata": {},
     "output_type": "execute_result"
    }
   ],
   "source": [
    "input(\"lütfen yaşınızı giriniz\")"
   ]
  },
  {
   "cell_type": "code",
   "execution_count": 33,
   "metadata": {},
   "outputs": [],
   "source": [
    "age = input (\"lütfen yaşınızı giriniz\")"
   ]
  },
  {
   "cell_type": "code",
   "execution_count": 37,
   "metadata": {},
   "outputs": [
    {
     "name": "stdout",
     "output_type": "stream",
     "text": [
      "26\n"
     ]
    }
   ],
   "source": [
    "age\n",
    "print(age)   #yukarıda input ile age 26 olarak atanmış idi"
   ]
  },
  {
   "cell_type": "code",
   "execution_count": 44,
   "metadata": {},
   "outputs": [
    {
     "data": {
      "text/plain": [
       "1998"
      ]
     },
     "execution_count": 44,
     "metadata": {},
     "output_type": "execute_result"
    }
   ],
   "source": [
    "age = 26\n",
    "2024 - age "
   ]
  },
  {
   "cell_type": "code",
   "execution_count": 48,
   "metadata": {},
   "outputs": [],
   "source": [
    "age_1 = int(input(\"lütfen yaşınızı giriniz\"))"
   ]
  },
  {
   "cell_type": "code",
   "execution_count": 47,
   "metadata": {},
   "outputs": [
    {
     "data": {
      "text/plain": [
       "int"
      ]
     },
     "execution_count": 47,
     "metadata": {},
     "output_type": "execute_result"
    }
   ],
   "source": [
    "type(age_1)"
   ]
  },
  {
   "cell_type": "code",
   "execution_count": 49,
   "metadata": {},
   "outputs": [
    {
     "ename": "ValueError",
     "evalue": "invalid literal for int() with base 10: 'on iki'",
     "output_type": "error",
     "traceback": [
      "\u001b[1;31m---------------------------------------------------------------------------\u001b[0m",
      "\u001b[1;31mValueError\u001b[0m                                Traceback (most recent call last)",
      "Cell \u001b[1;32mIn[49], line 1\u001b[0m\n\u001b[1;32m----> 1\u001b[0m age_1 \u001b[38;5;241m=\u001b[39m \u001b[38;5;28;43mint\u001b[39;49m\u001b[43m(\u001b[49m\u001b[38;5;28;43minput\u001b[39;49m\u001b[43m(\u001b[49m\u001b[38;5;124;43m\"\u001b[39;49m\u001b[38;5;124;43mlütfen yaşınızı giriniz\u001b[39;49m\u001b[38;5;124;43m\"\u001b[39;49m\u001b[43m)\u001b[49m\u001b[43m)\u001b[49m\n",
      "\u001b[1;31mValueError\u001b[0m: invalid literal for int() with base 10: 'on iki'"
     ]
    }
   ],
   "source": [
    "age_2 = int(input(\"lütfen yaşınızı giriniz\"))"
   ]
  },
  {
   "cell_type": "code",
   "execution_count": 50,
   "metadata": {},
   "outputs": [],
   "source": [
    "age_3 = int(input(\"lütfen yaşınızı rakamla giriniz. Örneğin:32\"))"
   ]
  },
  {
   "cell_type": "markdown",
   "metadata": {},
   "source": [
    "### İnput fonksiyonu ile doğum yılınızı hesaplayan bir input kodu yazın"
   ]
  },
  {
   "cell_type": "code",
   "execution_count": 59,
   "metadata": {},
   "outputs": [
    {
     "name": "stdout",
     "output_type": "stream",
     "text": [
      "doğum yılınız 1997\n"
     ]
    }
   ],
   "source": [
    "age = int(input(\"lütfen yaşınızı giriniz\"))\n",
    "2024 - age\n",
    "print(\"doğum yılınız\", 2024 - age)                         # benim cevap\n"
   ]
  },
  {
   "cell_type": "code",
   "execution_count": 57,
   "metadata": {},
   "outputs": [
    {
     "name": "stdout",
     "output_type": "stream",
     "text": [
      "doğum yılınız 1997\n"
     ]
    }
   ],
   "source": [
    "age = input(\"lütfen yaşınızı giriniz\")\n",
    "age = int(age)\n",
    "doğum_yılı = 2024 - age                   #hocanın cevap\n",
    "print(\"doğum yılınız\", doğum_yılı)"
   ]
  },
  {
   "cell_type": "markdown",
   "metadata": {},
   "source": [
    "#### Kullanıcıdan kilo ve boy bilgisini alan ve girilen bilgilere göre vücut kitle indeksini(vki) hesaplayan kodu yazınız"
   ]
  },
  {
   "cell_type": "code",
   "execution_count": 11,
   "metadata": {},
   "outputs": [
    {
     "name": "stdout",
     "output_type": "stream",
     "text": [
      "vki 19.72386587771203\n"
     ]
    }
   ],
   "source": [
    "kilo = int(input(\"lütfen kilonuzu yazınız\"))\n",
    "boy = float(input(\"lütfen boyunuzu giriniz\"))     #BENİM CEVAP\n",
    "vki = kilo / boy ** 2\n",
    "print(\"vki\", vki )"
   ]
  },
  {
   "cell_type": "code",
   "execution_count": 1,
   "metadata": {},
   "outputs": [
    {
     "name": "stdout",
     "output_type": "stream",
     "text": [
      "vki 19.72386587771203\n"
     ]
    }
   ],
   "source": [
    "kilo = int(input(\"lütfen kilonuzu kg cinsinden yazınız\"))\n",
    "boy = int(input(\"lütfen boyunuzu cm cinsinden giriniz\"))     #HOCANIN CEVAP\n",
    "vki = kilo / (boy/100) ** 2\n",
    "print(\"vki\", vki )"
   ]
  },
  {
   "cell_type": "markdown",
   "metadata": {},
   "source": [
    "## Escape Sequences"
   ]
  },
  {
   "cell_type": "code",
   "execution_count": 14,
   "metadata": {},
   "outputs": [
    {
     "ename": "SyntaxError",
     "evalue": "unterminated string literal (detected at line 1) (55465173.py, line 1)",
     "output_type": "error",
     "traceback": [
      "\u001b[1;36m  Cell \u001b[1;32mIn[14], line 1\u001b[1;36m\u001b[0m\n\u001b[1;33m    print('I'm python teacher')\u001b[0m\n\u001b[1;37m                             ^\u001b[0m\n\u001b[1;31mSyntaxError\u001b[0m\u001b[1;31m:\u001b[0m unterminated string literal (detected at line 1)\n"
     ]
    }
   ],
   "source": [
    "print('I'm python teacher')"
   ]
  },
  {
   "cell_type": "code",
   "execution_count": 16,
   "metadata": {},
   "outputs": [
    {
     "name": "stdout",
     "output_type": "stream",
     "text": [
      "I'm python teacher\n"
     ]
    }
   ],
   "source": [
    "print(\"I'm python teacher\")"
   ]
  },
  {
   "cell_type": "code",
   "execution_count": 17,
   "metadata": {},
   "outputs": [
    {
     "name": "stdout",
     "output_type": "stream",
     "text": [
      "I'm python teacher\n"
     ]
    }
   ],
   "source": [
    "print('I\\'m python teacher')   # çalışmasının sebebi \\ işaret"
   ]
  },
  {
   "cell_type": "code",
   "execution_count": 19,
   "metadata": {},
   "outputs": [
    {
     "name": "stdout",
     "output_type": "stream",
     "text": [
      "I'm python teacher, \n",
      "and developer\n"
     ]
    }
   ],
   "source": [
    "print(\"I'm python teacher, \\nand developer\")   #'\\n' bir enter tuşuna basmak anlamına gelir"
   ]
  },
  {
   "cell_type": "code",
   "execution_count": 2,
   "metadata": {},
   "outputs": [
    {
     "ename": "SyntaxError",
     "evalue": "unterminated string literal (detected at line 1) (3844287396.py, line 1)",
     "output_type": "error",
     "traceback": [
      "\u001b[1;36m  Cell \u001b[1;32mIn[2], line 1\u001b[1;36m\u001b[0m\n\u001b[1;33m    print(\"I'm python teacher,\u001b[0m\n\u001b[1;37m          ^\u001b[0m\n\u001b[1;31mSyntaxError\u001b[0m\u001b[1;31m:\u001b[0m unterminated string literal (detected at line 1)\n"
     ]
    }
   ],
   "source": [
    "print(\"I'm python teacher, \n",
    "      and developer\")"
   ]
  },
  {
   "cell_type": "code",
   "execution_count": 4,
   "metadata": {},
   "outputs": [
    {
     "name": "stdout",
     "output_type": "stream",
     "text": [
      "betül\tayse\taytaç\n"
     ]
    }
   ],
   "source": [
    "print(\"betül\", \"ayse\", \"aytaç\", sep = \"\\t\") #\\t tab tuşuna basmak anlamına gelir"
   ]
  },
  {
   "cell_type": "code",
   "execution_count": 7,
   "metadata": {},
   "outputs": [
    {
     "name": "stdout",
     "output_type": "stream",
     "text": [
      "I'm python teacherand developer\n"
     ]
    }
   ],
   "source": [
    "print(\"I'm python teacher,\\band developer\")   #'\\b' kendisinden önceki kararkteri siler. Boşul var ise sadcee boşluğu"
   ]
  },
  {
   "cell_type": "code",
   "execution_count": 8,
   "metadata": {},
   "outputs": [
    {
     "name": "stdout",
     "output_type": "stream",
     "text": [
      "I'm python teacheand developer\n"
     ]
    }
   ],
   "source": [
    "print(\"I'm python teacher,\\b\\band developer\") #2 kararkter sildi"
   ]
  },
  {
   "cell_type": "code",
   "execution_count": 9,
   "metadata": {},
   "outputs": [
    {
     "name": "stdout",
     "output_type": "stream",
     "text": [
      "betüaysaytaç\n"
     ]
    }
   ],
   "source": [
    "print(\"betül\", \"ayse\", \"aytaç\", sep = \"\\b\")"
   ]
  },
  {
   "cell_type": "code",
   "execution_count": 10,
   "metadata": {},
   "outputs": [
    {
     "name": "stdout",
     "output_type": "stream",
     "text": [
      "bizde geri \\nvites olmaz\n"
     ]
    }
   ],
   "source": [
    "print(r\"bizde geri \\nvites olmaz\") #r harfi içerisindeki escapeleri sildi"
   ]
  },
  {
   "cell_type": "code",
   "execution_count": null,
   "metadata": {},
   "outputs": [],
   "source": []
  }
 ],
 "metadata": {
  "kernelspec": {
   "display_name": "Python 3",
   "language": "python",
   "name": "python3"
  },
  "language_info": {
   "codemirror_mode": {
    "name": "ipython",
    "version": 3
   },
   "file_extension": ".py",
   "mimetype": "text/x-python",
   "name": "python",
   "nbconvert_exporter": "python",
   "pygments_lexer": "ipython3",
   "version": "3.11.8"
  }
 },
 "nbformat": 4,
 "nbformat_minor": 2
}
