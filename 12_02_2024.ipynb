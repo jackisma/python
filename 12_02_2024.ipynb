{
 "cells": [
  {
   "cell_type": "markdown",
   "metadata": {},
   "source": [
    "# LOOPS"
   ]
  },
  {
   "cell_type": "markdown",
   "metadata": {},
   "source": [
    "### while"
   ]
  },
  {
   "cell_type": "code",
   "execution_count": null,
   "metadata": {},
   "outputs": [],
   "source": [
    "while 10 > 4:\n",
    "    print(\"bu döngü sonsuza kadar çalışır\")  # bu döngü sonsuza kadar çalışır. O yüzden çalıştırma"
   ]
  },
  {
   "cell_type": "code",
   "execution_count": 2,
   "metadata": {},
   "outputs": [
    {
     "name": "stdout",
     "output_type": "stream",
     "text": [
      "bu döngü koşul sağlandıça çıktı verir\n",
      "bu döngü koşul sağlandıça çıktı verir\n",
      "bu döngü koşul sağlandıça çıktı verir\n",
      "bu döngü koşul sağlandıça çıktı verir\n",
      "bu döngü koşul sağlandıça çıktı verir\n",
      "bu döngü koşul sağlandıça çıktı verir\n"
     ]
    }
   ],
   "source": [
    "x = 4\n",
    "\n",
    "while 10 > x:\n",
    "    print(\"bu döngü koşul sağlandıça çıktı verir\")\n",
    "    x = x + 1"
   ]
  },
  {
   "cell_type": "code",
   "execution_count": 3,
   "metadata": {},
   "outputs": [
    {
     "name": "stdout",
     "output_type": "stream",
     "text": [
      "1\n",
      "2\n",
      "3\n",
      "4\n",
      "5\n",
      "6\n",
      "7\n",
      "8\n",
      "9\n",
      "10\n"
     ]
    }
   ],
   "source": [
    "x = 1\n",
    "\n",
    "while x < 11:\n",
    "    print(x)\n",
    "    x = x + 1"
   ]
  },
  {
   "cell_type": "code",
   "execution_count": null,
   "metadata": {},
   "outputs": [],
   "source": [
    "x = 1\n",
    "\n",
    "while x < 11:\n",
    "    print(x)\n",
    "\n",
    "x = x + 1  #işlem döngü içinde olmadığı için sonsuza gider. DİKKAT"
   ]
  },
  {
   "cell_type": "code",
   "execution_count": 4,
   "metadata": {},
   "outputs": [
    {
     "name": "stdout",
     "output_type": "stream",
     "text": [
      "2\n",
      "3\n",
      "4\n",
      "5\n",
      "6\n",
      "7\n",
      "8\n",
      "9\n",
      "10\n",
      "11\n"
     ]
    }
   ],
   "source": [
    "x = 1\n",
    "\n",
    "while x < 11:\n",
    "    x = x + 1  #sıralama önemli\n",
    "    print(x)"
   ]
  },
  {
   "cell_type": "code",
   "execution_count": 5,
   "metadata": {},
   "outputs": [],
   "source": [
    "while False:\n",
    "    print(\"sanki çıktı vermeyecek gibi\")"
   ]
  },
  {
   "cell_type": "code",
   "execution_count": null,
   "metadata": {},
   "outputs": [],
   "source": [
    "while \"\":\n",
    "    print(\"bu kod da çıktı vermez\")"
   ]
  },
  {
   "cell_type": "code",
   "execution_count": null,
   "metadata": {},
   "outputs": [],
   "source": [
    "while True:\n",
    "    print(\"Bu kod da sonsuz çıktı veriri çünkü true\")  #sonsuz çıktı çalıştırma"
   ]
  },
  {
   "cell_type": "code",
   "execution_count": null,
   "metadata": {},
   "outputs": [],
   "source": [
    "x = 1\n",
    "\n",
    "while True:\n",
    "    print(x, \"sonsuza gider mi acaba\")   #sonsuza gider. while true dediğimiz için. x değerini arttırır ama döngünün sonsuza gitmesini engellemez\n",
    "    x = x + 1                              # x += 1 ile x= x + 1  aynı"
   ]
  },
  {
   "cell_type": "code",
   "execution_count": 1,
   "metadata": {},
   "outputs": [],
   "source": [
    "x = 5"
   ]
  },
  {
   "cell_type": "code",
   "execution_count": 3,
   "metadata": {},
   "outputs": [
    {
     "data": {
      "text/plain": [
       "50"
      ]
     },
     "execution_count": 3,
     "metadata": {},
     "output_type": "execute_result"
    }
   ],
   "source": [
    "x *= 2  # x = x * 2     \n",
    "x"
   ]
  },
  {
   "cell_type": "code",
   "execution_count": 2,
   "metadata": {},
   "outputs": [
    {
     "data": {
      "text/plain": [
       "25"
      ]
     },
     "execution_count": 2,
     "metadata": {},
     "output_type": "execute_result"
    }
   ],
   "source": [
    "x **= 2\n",
    "x"
   ]
  },
  {
   "cell_type": "code",
   "execution_count": 98,
   "metadata": {},
   "outputs": [
    {
     "name": "stdout",
     "output_type": "stream",
     "text": [
      "while döngüsü condition False olana kadar çalışır\n"
     ]
    }
   ],
   "source": [
    "y = True\n",
    "\n",
    "while y:\n",
    "    print(\"while döngüsü condition False olana kadar çalışır\")  #bir kez çalışır. Çünkü kodu sırayla okur python\n",
    "    y = False"
   ]
  },
  {
   "cell_type": "code",
   "execution_count": null,
   "metadata": {},
   "outputs": [],
   "source": [
    "y = True\n",
    "\n",
    "while y:\n",
    "    print(\"while döngüsü condition False olana kadar çalışır\")  #bu şekilde sonsuz çalışır. Çünkü alttaki y döngüye dahil değil\n",
    "y = False"
   ]
  },
  {
   "cell_type": "code",
   "execution_count": 1,
   "metadata": {},
   "outputs": [
    {
     "name": "stdout",
     "output_type": "stream",
     "text": [
      "deneme: 1\n",
      "deneme: 2\n",
      "deneme: 3\n",
      "3 deneme hakkın bitti\n"
     ]
    }
   ],
   "source": [
    "x = 1\n",
    "\n",
    "while x <= 3:\n",
    "    print(f\"deneme: {x}\")\n",
    "    x += 1\n",
    "\n",
    "print(\"3 deneme hakkın bitti\")"
   ]
  },
  {
   "cell_type": "code",
   "execution_count": 101,
   "metadata": {},
   "outputs": [
    {
     "name": "stdout",
     "output_type": "stream",
     "text": [
      "deneme: 1\n",
      "print döngü içinde olursa sürekli yazdıdır\n",
      "deneme: 2\n",
      "print döngü içinde olursa sürekli yazdıdır\n",
      "deneme: 3\n",
      "print döngü içinde olursa sürekli yazdıdır\n"
     ]
    }
   ],
   "source": [
    "x = 1         \n",
    "\n",
    "while x <= 3:\n",
    "    print(f\"deneme: {x}\")\n",
    "    x += 1                          #yazım şekline dikkat etmek gerekiyor\n",
    "    \n",
    "    print(\"print döngü içinde olursa sürekli yazdıdır\")"
   ]
  },
  {
   "cell_type": "code",
   "execution_count": null,
   "metadata": {},
   "outputs": [],
   "source": [
    "# 1 ve 5 dahil sayıların karesini çıktı olarak veren while dögüsü"
   ]
  },
  {
   "cell_type": "code",
   "execution_count": 5,
   "metadata": {},
   "outputs": [
    {
     "name": "stdout",
     "output_type": "stream",
     "text": [
      "1 sayısının karesi 1\n",
      "2 sayısının karesi 4\n",
      "3 sayısının karesi 9\n",
      "4 sayısının karesi 16\n",
      "5 sayısının karesi 25\n"
     ]
    }
   ],
   "source": [
    "x = 1\n",
    "\n",
    "while x <= 5:\n",
    "    print(f\"{x} sayısının karesi {x ** 2}\")\n",
    "    x += 1"
   ]
  },
  {
   "cell_type": "code",
   "execution_count": 7,
   "metadata": {},
   "outputs": [
    {
     "name": "stdout",
     "output_type": "stream",
     "text": [
      "6 sayısının karesi 36\n"
     ]
    }
   ],
   "source": [
    "x = 1\n",
    "\n",
    "while x <= 5:\n",
    "    x += 1                    # false olana kadar döngü çalıştı ama çıktı vermedi ve false olunca print çalıştı aslında\n",
    "    \n",
    "print(f\"{x} sayısının karesi {x ** 2}\")\n"
   ]
  },
  {
   "cell_type": "code",
   "execution_count": 107,
   "metadata": {},
   "outputs": [
    {
     "name": "stdout",
     "output_type": "stream",
     "text": [
      "1 in karesi 1\n",
      "2 in karesi 4\n",
      "3 in karesi 9\n",
      "4 in karesi 16\n",
      "5 in karesi 25\n"
     ]
    }
   ],
   "source": [
    "x = 1\n",
    "\n",
    "while x <= 5:\n",
    "    print(f\"{x} in karesi {x**2}\")\n",
    "    x += 1"
   ]
  },
  {
   "cell_type": "code",
   "execution_count": 108,
   "metadata": {},
   "outputs": [
    {
     "name": "stdout",
     "output_type": "stream",
     "text": [
      "1 in karesi 1\n",
      "2 in karesi 4\n",
      "3 in karesi 9\n",
      "4 in karesi 16\n",
      "5 in karesi 25\n"
     ]
    }
   ],
   "source": [
    "x = 1\n",
    "\n",
    "while x < 6:\n",
    "    print(f\"{x} in karesi {x**2}\")\n",
    "    x += 1"
   ]
  },
  {
   "cell_type": "code",
   "execution_count": 9,
   "metadata": {},
   "outputs": [
    {
     "name": "stdout",
     "output_type": "stream",
     "text": [
      "55 yanlış tahmin tekrar dene\n",
      "74 yanlış tahmin tekrar dene\n"
     ]
    }
   ],
   "source": [
    "x = int(input(\"Kilomu tahmin et 10 luk değerler kullanılmalıdır\"))\n",
    "\n",
    "while x < 90:\n",
    "    print(f\"{x} yanlış tahmin tekrar dene\")                                   #doğru değeri girene kadar sonsuz döngüde kalır\n",
    "    x = int(input(\"Kilomu tahmin et 10 luk değerler kullanılmalıdır\"))"
   ]
  },
  {
   "cell_type": "code",
   "execution_count": 32,
   "metadata": {},
   "outputs": [
    {
     "name": "stdout",
     "output_type": "stream",
     "text": [
      "55 yanlış tahmin. Tahmini azalt\n",
      "55 yanlış tahmin. Tahmini azalt\n",
      "55 yanlış tahmin. Tahmini azalt\n"
     ]
    }
   ],
   "source": [
    "aklımdaki_sayi = 50\n",
    "\n",
    "sayaç = 0\n",
    "\n",
    "while True:\n",
    "    tahmin = int(input(\"1 ile 100 arasında bir sayı giriniz\"))\n",
    "    sayaç += 1\n",
    "    if tahmin < 50:\n",
    "        print(f\"{tahmin} yanlış tahmin. Tahmini arttır\")\n",
    "    elif tahmin > 50:\n",
    "        print(f\"{tahmin} yanlış tahmin. Tahmini azalt\")\n",
    "    else:\n",
    "        print(f\"{tahmin} doğru tahmin tebrikler\")\n",
    "        break\n",
    "    if sayaç == 3:\n",
    "        break"
   ]
  },
  {
   "cell_type": "code",
   "execution_count": 31,
   "metadata": {},
   "outputs": [
    {
     "name": "stdout",
     "output_type": "stream",
     "text": [
      "Girdiğiniz sayı : 55. Doğru tahmin. Tebrikler\n"
     ]
    }
   ],
   "source": [
    "y = True\n",
    "\n",
    "aklımdaki_sayı = 55\n",
    "\n",
    "while y:\n",
    "    \n",
    "    tahmin = int(input(\"1 ile 100 arasında bir sayı yazınız\"))\n",
    "    sayaç += 1\n",
    "\n",
    "    if aklımdaki_sayı < tahmin:\n",
    "        print(f\"Girdiğiniz sayı : {tahmin}. Tahminini azalt\")   #y = False yapmasaydım sonsuz döngüde çalışacak idi\n",
    "\n",
    "    elif aklımdaki_sayı > tahmin:\n",
    "        print(f\"Girdiğiniz sayı : {tahmin}. Tahminini arttır\")\n",
    "\n",
    "    else:\n",
    "        print(f\"Girdiğiniz sayı : {tahmin}. Doğru tahmin. Tebrikler\")\n",
    "        y = False"
   ]
  },
  {
   "cell_type": "code",
   "execution_count": 120,
   "metadata": {},
   "outputs": [
    {
     "name": "stdout",
     "output_type": "stream",
     "text": [
      "Girdiğiniz sayı : 58. Tahminini azalt\n",
      "Girdiğiniz sayı : 26. Tahminini arttır\n",
      "Girdiğiniz sayı : 55. 3 kerde bildiniz. Doğru tahmin. Tebrikler\n"
     ]
    }
   ],
   "source": [
    "y = True\n",
    "\n",
    "aklımdaki_sayı = 55\n",
    "\n",
    "sayaç = 0\n",
    "\n",
    "while y:\n",
    "    \n",
    "    tahmin = int(input(\"1 ile 100 arasında bir sayı yazınız\"))\n",
    "\n",
    "    sayaç += 1\n",
    "\n",
    "    if aklımdaki_sayı < tahmin:\n",
    "        print(f\"Girdiğiniz sayı : {tahmin}. Tahminini azalt\")   \n",
    "\n",
    "    elif aklımdaki_sayı > tahmin:\n",
    "        print(f\"Girdiğiniz sayı : {tahmin}. Tahminini arttır\")\n",
    "\n",
    "    else:\n",
    "        print(f\"Girdiğiniz sayı : {tahmin}. {sayaç} kerde bildiniz. Doğru tahmin. Tebrikler\")\n",
    "        y = False"
   ]
  },
  {
   "cell_type": "code",
   "execution_count": 122,
   "metadata": {},
   "outputs": [
    {
     "name": "stdout",
     "output_type": "stream",
     "text": [
      "Girdiğiniz sayı : 75. Tahminini azalt\n",
      "Girdiğiniz sayı : 65. Tahminini azalt\n",
      "Girdiğiniz sayı : 25. Tahminini arttır\n",
      "Girdiğiniz sayı : 13. Tahminini arttır\n",
      "Girdiğiniz sayı : 74. Tahminini azalt\n"
     ]
    }
   ],
   "source": [
    "y = True\n",
    "\n",
    "aklımdaki_sayı = 55\n",
    "\n",
    "sayaç = 0\n",
    "\n",
    "while y:\n",
    "    \n",
    "    tahmin = int(input(\"1 ile 100 arasında bir sayı yazınız. 5 hakkınız vardır\"))\n",
    "\n",
    "    sayaç += 1\n",
    "\n",
    "    if aklımdaki_sayı < tahmin:\n",
    "        print(f\"Girdiğiniz sayı : {tahmin}. Tahminini azalt\")   \n",
    "\n",
    "    elif aklımdaki_sayı > tahmin:\n",
    "        print(f\"Girdiğiniz sayı : {tahmin}. Tahminini arttır\")\n",
    "\n",
    "    else:\n",
    "        print(f\"Girdiğiniz sayı : {tahmin}. {sayaç} kerde bildiniz. Doğru tahmin. Tebrikler\")\n",
    "        y = False\n",
    "\n",
    "    if sayaç == 5:\n",
    "        y = False"
   ]
  },
  {
   "cell_type": "code",
   "execution_count": 33,
   "metadata": {},
   "outputs": [
    {
     "data": {
      "text/plain": [
       "[1, 3, 4, 6, 5, 7]"
      ]
     },
     "execution_count": 33,
     "metadata": {},
     "output_type": "execute_result"
    }
   ],
   "source": [
    "sayılar_listesi = [1, 3, 4, 6, 5, 7]\n",
    "sayılar_listesi"
   ]
  },
  {
   "cell_type": "code",
   "execution_count": 125,
   "metadata": {},
   "outputs": [
    {
     "name": "stdout",
     "output_type": "stream",
     "text": [
      "1\n",
      "9\n",
      "16\n",
      "36\n",
      "25\n",
      "49\n"
     ]
    }
   ],
   "source": [
    "#listenin elemanlarının karesini döndüren while döngüsünü yazınız\n",
    "x = 0\n",
    "\n",
    "while x < len(sayılar_listesi):\n",
    "\n",
    "    print(sayılar_listesi[x] ** 2)\n",
    "\n",
    "    x += 1"
   ]
  },
  {
   "cell_type": "code",
   "execution_count": null,
   "metadata": {},
   "outputs": [],
   "source": [
    "x = 0 \n",
    "for i in sayılar_listesi:\n",
    "    print(sayılar_listesi[x] ** 2)\n",
    "    x += 1"
   ]
  },
  {
   "cell_type": "code",
   "execution_count": 41,
   "metadata": {},
   "outputs": [
    {
     "name": "stdout",
     "output_type": "stream",
     "text": [
      "[1, 9, 16, 36, 25, 49]\n"
     ]
    }
   ],
   "source": [
    "sayılar_listesi = [1, 3, 4, 6, 5, 7]\n",
    "x = 0\n",
    "boş_liste = []\n",
    "while x < len(sayılar_listesi):\n",
    "\n",
    "    boş_liste.append(sayılar_listesi[x] ** 2)\n",
    "\n",
    "    x += 1\n",
    "\n",
    "print(boş_liste)"
   ]
  },
  {
   "cell_type": "code",
   "execution_count": 42,
   "metadata": {},
   "outputs": [
    {
     "name": "stdout",
     "output_type": "stream",
     "text": [
      "[1, 9, 16, 36, 25, 49]\n"
     ]
    }
   ],
   "source": [
    "sayılar_listesi = [1, 3, 4, 6, 5, 7]\n",
    "x = 0\n",
    "boş_liste = []\n",
    "for i in sayılar_listesi:\n",
    "    boş_liste.append(sayılar_listesi[x] ** 2)\n",
    "    x += 1\n",
    "\n",
    "print(boş_liste)\n"
   ]
  },
  {
   "cell_type": "code",
   "execution_count": 129,
   "metadata": {},
   "outputs": [
    {
     "name": "stdout",
     "output_type": "stream",
     "text": [
      "[1]\n",
      "[1, 9]\n",
      "[1, 9, 16]\n",
      "[1, 9, 16, 36]\n",
      "[1, 9, 16, 36, 25]\n",
      "[1, 9, 16, 36, 25, 49]\n"
     ]
    }
   ],
   "source": [
    "#listenin elemanlarının karesini bir liste içinde döndüren while döngüsünü yazınız\n",
    "\n",
    "sayılar_listesi = [1, 3, 4, 6, 5, 7]\n",
    "\n",
    "x = 0\n",
    "\n",
    "kareler_listesi = []\n",
    "\n",
    "while x < len(sayılar_listesi):\n",
    "\n",
    "    kareler_listesi.append(sayılar_listesi[x] ** 2)\n",
    "\n",
    "    x += 1\n",
    "\n",
    "    print(kareler_listesi)\n",
    "\n"
   ]
  },
  {
   "cell_type": "code",
   "execution_count": 130,
   "metadata": {},
   "outputs": [
    {
     "name": "stdout",
     "output_type": "stream",
     "text": [
      "[1, 9, 16, 36, 25, 49]\n"
     ]
    }
   ],
   "source": [
    "#listenin elemanlarının karesini bir liste içinde döndüren while döngüsünü yazınız\n",
    "\n",
    "sayılar_listesi = [1, 3, 4, 6, 5, 7]\n",
    "\n",
    "x = 0\n",
    "\n",
    "kareler_listesi = []\n",
    "\n",
    "while x < len(sayılar_listesi):\n",
    "\n",
    "    kareler_listesi.append(sayılar_listesi[x] ** 2)\n",
    "\n",
    "    x += 1\n",
    "\n",
    "print(kareler_listesi)"
   ]
  },
  {
   "cell_type": "code",
   "execution_count": 43,
   "metadata": {},
   "outputs": [
    {
     "name": "stdout",
     "output_type": "stream",
     "text": [
      "[1, 9, 16, 36, 25, 49]\n"
     ]
    }
   ],
   "source": [
    "x = 0\n",
    "kareler_listesi = []\n",
    "\n",
    "for i in sayılar_listesi:\n",
    "    kareler_listesi.append(sayılar_listesi[x] ** 2)\n",
    "    x += 1\n",
    "\n",
    "print(kareler_listesi)"
   ]
  },
  {
   "cell_type": "code",
   "execution_count": 140,
   "metadata": {},
   "outputs": [
    {
     "name": "stdout",
     "output_type": "stream",
     "text": [
      "[16, 36]\n"
     ]
    }
   ],
   "source": [
    "#listenin elemanlarından çift olanların karesini bir liste içinde döndüren while döngüsünü yazınız\n",
    "\n",
    "sayılar_listesi = [1, 3, 4, 6, 5, 7]\n",
    "\n",
    "x = 0\n",
    "\n",
    "çift_sayıların_kareler_listesi = []\n",
    "\n",
    "while x < len(sayılar_listesi):\n",
    "\n",
    "    if sayılar_listesi[x] % 2 == 0:\n",
    "    \n",
    "        çift_sayıların_kareler_listesi.append(sayılar_listesi[x] ** 2)\n",
    "\n",
    "    x += 1\n",
    "\n",
    "print(çift_sayıların_kareler_listesi)"
   ]
  },
  {
   "cell_type": "code",
   "execution_count": 46,
   "metadata": {},
   "outputs": [
    {
     "name": "stdout",
     "output_type": "stream",
     "text": [
      "[16, 36]\n"
     ]
    }
   ],
   "source": [
    "x = 0\n",
    "çift_sayıların_kareler_listesi = []\n",
    "\n",
    "for i in sayılar_listesi:\n",
    "    if sayılar_listesi[x] % 2 == 0:\n",
    "        çift_sayıların_kareler_listesi.append(sayılar_listesi[x] ** 2)\n",
    "    x += 1\n",
    "\n",
    "print(çift_sayıların_kareler_listesi)"
   ]
  },
  {
   "cell_type": "code",
   "execution_count": null,
   "metadata": {},
   "outputs": [],
   "source": [
    "# [1,5,6,7,12,14,15,18,19,32,25] listesinin tek elemanlarının karesini, çift elemanlarının 2 katını liste halinde döndüren while döngüsünü yazın"
   ]
  },
  {
   "cell_type": "code",
   "execution_count": 7,
   "metadata": {},
   "outputs": [
    {
     "name": "stdout",
     "output_type": "stream",
     "text": [
      "[12, 24, 28, 36, 64, 1, 25, 49, 225, 361, 625]\n"
     ]
    }
   ],
   "source": [
    "# soru: [1,5,6,7,12,14,15,18,19,32,25] listesinin tek elemanlarının karesini, çift elemanlarının 2 katını liste halinde döndüren while döngüsünü yazın\n",
    "\n",
    "sayılar_listesi2 = [1,5,6,7,12,14,15,18,19,32,25]\n",
    "\n",
    "x = 0\n",
    "\n",
    "çift_sayıların_2katı_listesi = []\n",
    "tek_sayıların_karesi_listesi = []\n",
    "\n",
    "while x < len(sayılar_listesi2):                                                  #BENİM CEVAP\n",
    "\n",
    "    if   sayılar_listesi2[x] % 2 == 0:\n",
    "    \n",
    "        çift_sayıların_2katı_listesi.append(sayılar_listesi2[x] * 2)\n",
    "\n",
    "    else:\n",
    "\n",
    "        tek_sayıların_karesi_listesi.append(sayılar_listesi2[x] ** 2)\n",
    "\n",
    "    x += 1\n",
    "\n",
    "print( çift_sayıların_2katı_listesi + tek_sayıların_karesi_listesi)"
   ]
  },
  {
   "cell_type": "code",
   "execution_count": 47,
   "metadata": {},
   "outputs": [
    {
     "name": "stdout",
     "output_type": "stream",
     "text": [
      "[8, 10, 14, 1, 9, 36]\n"
     ]
    }
   ],
   "source": [
    "sayılar_listesi2 = [1,5,6,7,12,14,15,18,19,32,25]\n",
    "\n",
    "x = 0\n",
    "\n",
    "çift_sayıların_2katı_listesi = []\n",
    "tek_sayıların_karesi_listesi = []\n",
    "\n",
    "for i in sayılar_listesi:\n",
    "    if sayılar_listesi2[x] % 2 == 0:\n",
    "        çift_sayıların_2katı_listesi.append(sayılar_listesi[x] * 2)\n",
    "    else:\n",
    "        tek_sayıların_karesi_listesi.append(sayılar_listesi[x] ** 2)\n",
    "    x+=1\n",
    "\n",
    "print(çift_sayıların_2katı_listesi + tek_sayıların_karesi_listesi)"
   ]
  },
  {
   "cell_type": "code",
   "execution_count": 11,
   "metadata": {},
   "outputs": [
    {
     "name": "stdout",
     "output_type": "stream",
     "text": [
      "[1, 25, 12, 49, 24, 28, 225, 36, 361, 64, 625]\n"
     ]
    }
   ],
   "source": [
    "sayılar_listesi2 = [1,5,6,7,12,14,15,18,19,32,25]\n",
    "\n",
    "x = 0\n",
    "\n",
    "result = []\n",
    "\n",
    "while x < len(sayılar_listesi2):\n",
    "\n",
    "    if sayılar_listesi2[x] % 2:                                            #HOCANIN CEVAP\n",
    "        result.append(sayılar_listesi2[x] ** 2)\n",
    "\n",
    "    else:\n",
    "        result.append(sayılar_listesi2[x] * 2)\n",
    "\n",
    "    x += 1\n",
    "\n",
    "print(result)"
   ]
  },
  {
   "cell_type": "code",
   "execution_count": 48,
   "metadata": {},
   "outputs": [
    {
     "name": "stdout",
     "output_type": "stream",
     "text": [
      "[1, 9, 8, 36, 10, 14]\n"
     ]
    }
   ],
   "source": [
    "sayılar_listesi2 = [1,5,6,7,12,14,15,18,19,32,25]\n",
    "\n",
    "x = 0\n",
    "\n",
    "result = []\n",
    "\n",
    "for i in sayılar_listesi:\n",
    "    if sayılar_listesi2[x] % 2 == 0:\n",
    "        result.append(sayılar_listesi[x] * 2)\n",
    "    else:\n",
    "        result.append(sayılar_listesi[x] ** 2)\n",
    "    x+=1\n",
    "\n",
    "print(result)"
   ]
  },
  {
   "cell_type": "code",
   "execution_count": null,
   "metadata": {},
   "outputs": [],
   "source": []
  }
 ],
 "metadata": {
  "kernelspec": {
   "display_name": "Python 3",
   "language": "python",
   "name": "python3"
  },
  "language_info": {
   "codemirror_mode": {
    "name": "ipython",
    "version": 3
   },
   "file_extension": ".py",
   "mimetype": "text/x-python",
   "name": "python",
   "nbconvert_exporter": "python",
   "pygments_lexer": "ipython3",
   "version": "3.11.8"
  }
 },
 "nbformat": 4,
 "nbformat_minor": 2
}
