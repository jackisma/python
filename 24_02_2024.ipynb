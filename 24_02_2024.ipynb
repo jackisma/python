{
 "cells": [
  {
   "cell_type": "code",
   "execution_count": 1,
   "metadata": {},
   "outputs": [
    {
     "data": {
      "text/plain": [
       "9"
      ]
     },
     "execution_count": 1,
     "metadata": {},
     "output_type": "execute_result"
    }
   ],
   "source": [
    "3 + 6"
   ]
  },
  {
   "cell_type": "code",
   "execution_count": 1,
   "metadata": {},
   "outputs": [],
   "source": [
    "import my_module"
   ]
  },
  {
   "cell_type": "code",
   "execution_count": 3,
   "metadata": {},
   "outputs": [],
   "source": [
    "from package_1 import my_module"
   ]
  },
  {
   "cell_type": "code",
   "execution_count": 10,
   "metadata": {},
   "outputs": [
    {
     "name": "stdout",
     "output_type": "stream",
     "text": [
      "let's play a game\n",
      "you_win\n",
      "even\n",
      "even\n",
      "Game over\n"
     ]
    }
   ],
   "source": [
    "print(\"let's play a game\")\n",
    "a = input(\"Would you like to play rock, paper, scissors?(yes or no)\").lower()\n",
    "import time\n",
    "import random\n",
    "pc_list = [\"rock\", \"paper\", \"scissors\"]\n",
    "\n",
    "while a == \"yes\":\n",
    "\n",
    "    pc = pc_list[random.randint(0, 2)]\n",
    "\n",
    "    time.sleep(1)\n",
    "    you = input(\"choose one >> rock, paper or scissors\").lower()\n",
    "\n",
    "    if (pc == \"rock\" and you == \"scissors\") or (pc == \"paper\" and you == \"rock\") or (pc == \"scissors\" and you == \"paper\"):\n",
    "        s = \"pc_win\"\n",
    "        print(s)\n",
    "    \n",
    "    elif(pc == \"rock\" and you == \"paper\") or (pc == \"paper\" and you == \"scissors\") or (pc == \"scissors\" and you == \"rock\"):\n",
    "        s = \"you_win\"\n",
    "        print(s)\n",
    "\n",
    "    elif (pc == \"rock\" and you == \"rock\") or (pc == \"paper\" and you == \"paper\") or (pc == \"scissors\" and you == \"scissors\"):\n",
    "        s = \"even\"\n",
    "        print(s)\n",
    "\n",
    "    else:\n",
    "        s = \"wrong entry\"\n",
    "        print(s)\n",
    "\n",
    "    time.sleep(1)\n",
    "    \n",
    "    a = input(\"Would you like to play rock, paper, scissors?(yes or no)\").lower()\n",
    "\n",
    "print(\"Game over\")"
   ]
  },
  {
   "cell_type": "code",
   "execution_count": 13,
   "metadata": {},
   "outputs": [],
   "source": [
    "def rock_paper_scissors():\n",
    "    a = input(\"Would you like to play rock, paper, scissors?(yes or no)\").lower()\n",
    "    import time\n",
    "    import random\n",
    "    pc_list = [\"rock\", \"paper\", \"scissors\"]\n",
    "\n",
    "    while a == \"yes\":\n",
    "\n",
    "        pc = pc_list[random.randint(0, 2)]\n",
    "\n",
    "        time.sleep(1)\n",
    "        you = input(\"choose one >> rock, paper or scissors\").lower()\n",
    "\n",
    "        if (pc == \"rock\" and you == \"scissors\") or (pc == \"paper\" and you == \"rock\") or (pc == \"scissors\" and you == \"paper\"):\n",
    "            s = \"pc_win\"\n",
    "            print(s)\n",
    "    \n",
    "        elif(pc == \"rock\" and you == \"paper\") or (pc == \"paper\" and you == \"scissors\") or (pc == \"scissors\" and you == \"rock\"):\n",
    "            s = \"you_win\"\n",
    "            print(s)\n",
    "\n",
    "        elif (pc == \"rock\" and you == \"rock\") or (pc == \"paper\" and you == \"paper\") or (pc == \"scissors\" and you == \"scissors\"):\n",
    "            s = \"even\"\n",
    "            print(s)\n",
    "\n",
    "        else:\n",
    "            s = \"wrong entry\"\n",
    "            print(s)\n",
    "\n",
    "        time.sleep(1)\n",
    "    \n",
    "        a = input(\"Would you like to play rock, paper, scissors?(yes or no)\").lower()\n",
    "    print(\"Game over\")"
   ]
  },
  {
   "cell_type": "code",
   "execution_count": 18,
   "metadata": {},
   "outputs": [
    {
     "name": "stdout",
     "output_type": "stream",
     "text": [
      "pc_win\n",
      "Game over\n"
     ]
    }
   ],
   "source": [
    "rock_paper_scissors()"
   ]
  },
  {
   "cell_type": "code",
   "execution_count": 1,
   "metadata": {},
   "outputs": [],
   "source": [
    "import oyun"
   ]
  },
  {
   "cell_type": "code",
   "execution_count": 2,
   "metadata": {},
   "outputs": [
    {
     "name": "stdout",
     "output_type": "stream",
     "text": [
      "even\n",
      "Game over\n"
     ]
    }
   ],
   "source": [
    "oyun.rock_paper_scissors()"
   ]
  },
  {
   "cell_type": "code",
   "execution_count": null,
   "metadata": {},
   "outputs": [],
   "source": []
  }
 ],
 "metadata": {
  "kernelspec": {
   "display_name": ".venv",
   "language": "python",
   "name": "python3"
  },
  "language_info": {
   "codemirror_mode": {
    "name": "ipython",
    "version": 3
   },
   "file_extension": ".py",
   "mimetype": "text/x-python",
   "name": "python",
   "nbconvert_exporter": "python",
   "pygments_lexer": "ipython3",
   "version": "0.0.0"
  }
 },
 "nbformat": 4,
 "nbformat_minor": 2
}
