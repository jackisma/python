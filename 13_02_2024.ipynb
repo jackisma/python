{
 "cells": [
  {
   "cell_type": "markdown",
   "metadata": {},
   "source": [
    "# random modülü"
   ]
  },
  {
   "cell_type": "code",
   "execution_count": 6,
   "metadata": {},
   "outputs": [],
   "source": [
    "import random   #import modülün içe aktarılması demektir"
   ]
  },
  {
   "cell_type": "code",
   "execution_count": 7,
   "metadata": {},
   "outputs": [
    {
     "data": {
      "text/plain": [
       "0.532466840033674"
      ]
     },
     "execution_count": 7,
     "metadata": {},
     "output_type": "execute_result"
    }
   ],
   "source": [
    "random.random() # 0 dahil 1 dahil değil aralığında sayılar üretir."
   ]
  },
  {
   "cell_type": "code",
   "execution_count": 11,
   "metadata": {},
   "outputs": [
    {
     "data": {
      "text/plain": [
       "0.038551839337380045"
      ]
     },
     "execution_count": 11,
     "metadata": {},
     "output_type": "execute_result"
    }
   ],
   "source": [
    "random.seed(43)\n",
    "random.random()     #belli bir sabite göre aynı değerleri rassal olarak üretir."
   ]
  },
  {
   "cell_type": "code",
   "execution_count": 22,
   "metadata": {},
   "outputs": [
    {
     "data": {
      "text/plain": [
       "4"
      ]
     },
     "execution_count": 22,
     "metadata": {},
     "output_type": "execute_result"
    }
   ],
   "source": [
    "random.randint(1,6)"
   ]
  },
  {
   "cell_type": "code",
   "execution_count": 33,
   "metadata": {},
   "outputs": [
    {
     "data": {
      "text/plain": [
       "[58, 82, 92, 42, 67]"
      ]
     },
     "execution_count": 33,
     "metadata": {},
     "output_type": "execute_result"
    }
   ],
   "source": [
    "random.sample(range(100),5)"
   ]
  },
  {
   "cell_type": "code",
   "execution_count": 7,
   "metadata": {},
   "outputs": [
    {
     "data": {
      "text/plain": [
       "29"
      ]
     },
     "execution_count": 7,
     "metadata": {},
     "output_type": "execute_result"
    }
   ],
   "source": [
    "random.randint(1,100)"
   ]
  },
  {
   "cell_type": "code",
   "execution_count": 12,
   "metadata": {},
   "outputs": [
    {
     "name": "stdout",
     "output_type": "stream",
     "text": [
      "yanlış cevap. tahminini arttır\n",
      "yanlış cevap. tahminini arttır\n",
      "yanlış cevap. tahminini azalt\n",
      "yanlış cevap. tahminini azalt\n",
      "yanlış cevap. tahminini azalt\n"
     ]
    }
   ],
   "source": [
    "aklımdaki_sayı = random.randint(1,100)\n",
    "sayaç = 0\n",
    "while True:\n",
    "    tahmin = int(input(\"1 ile 100 arasında bir sayı yazınız. 5 hakkınız vardır\"))\n",
    "    sayaç +=1\n",
    "    if aklımdaki_sayı < tahmin:\n",
    "        print(\"yanlış cevap. tahminini azalt\")\n",
    "    elif aklımdaki_sayı > tahmin:\n",
    "        print(\"yanlış cevap. tahminini arttır\")\n",
    "    else:\n",
    "        print(f\"{aklımdaki_sayı} doğru tahmin tebrikler\")\n",
    "    if sayaç == 5:\n",
    "        break"
   ]
  },
  {
   "cell_type": "code",
   "execution_count": 9,
   "metadata": {},
   "outputs": [
    {
     "name": "stdout",
     "output_type": "stream",
     "text": [
      "Girdiğiniz sayı : 55. Tahminini azalt\n",
      "Girdiğiniz sayı : 25. Tahminini azalt\n",
      "Girdiğiniz sayı : 35. Tahminini azalt\n",
      "Girdiğiniz sayı : 18. Tahminini azalt\n",
      "Girdiğiniz sayı : 17. Tahminini azalt\n",
      "Girdiğiniz sayı : 15. 6. seferde bildiniz. Doğru tahmin. Tebrikler\n"
     ]
    }
   ],
   "source": [
    "y = True\n",
    "\n",
    "aklımdaki_sayı = random.randint(1,100)\n",
    "\n",
    "sayaç = 0\n",
    "while y:\n",
    "    \n",
    "    tahmin = int(input(\"1 ile 100 arasında bir sayı yazınız. 5 hakkınız vardır\"))\n",
    "\n",
    "    sayaç += 1\n",
    "\n",
    "    if aklımdaki_sayı < tahmin:\n",
    "        print(f\"Girdiğiniz sayı : {tahmin}. Tahminini azalt\")   \n",
    "\n",
    "    elif aklımdaki_sayı > tahmin:\n",
    "        print(f\"Girdiğiniz sayı : {tahmin}. Tahminini arttır\")\n",
    "\n",
    "    else:\n",
    "        print(f\"Girdiğiniz sayı : {tahmin}. {sayaç}. seferde bildiniz. Doğru tahmin. Tebrikler\")\n",
    "        y = False"
   ]
  },
  {
   "cell_type": "markdown",
   "metadata": {},
   "source": [
    "## Break, continue"
   ]
  },
  {
   "cell_type": "code",
   "execution_count": 44,
   "metadata": {},
   "outputs": [],
   "source": [
    "# break denk geldiği yerde döngüyü bitir demektir"
   ]
  },
  {
   "cell_type": "code",
   "execution_count": 45,
   "metadata": {},
   "outputs": [
    {
     "name": "stdout",
     "output_type": "stream",
     "text": [
      "Girdiğiniz sayı : 88. Tahminini azalt\n",
      "Girdiğiniz sayı : 55. Tahminini azalt\n",
      "Girdiğiniz sayı : 77. Tahminini azalt\n",
      "Girdiğiniz sayı : 45. Tahminini azalt\n",
      "Girdiğiniz sayı : 35. 5. seferde bildiniz. Doğru tahmin. Tebrikler\n"
     ]
    }
   ],
   "source": [
    "aklımdaki_sayı = random.randint(1,100)\n",
    "\n",
    "sayaç = 0\n",
    "\n",
    "while True:\n",
    "    \n",
    "    tahmin = int(input(\"1 ile 100 arasında bir sayı yazınız. 5 hakkınız vardır\"))\n",
    "\n",
    "    sayaç += 1\n",
    "\n",
    "    if aklımdaki_sayı < tahmin:\n",
    "        print(f\"Girdiğiniz sayı : {tahmin}. Tahminini azalt\")   \n",
    "\n",
    "    elif aklımdaki_sayı > tahmin:\n",
    "        print(f\"Girdiğiniz sayı : {tahmin}. Tahminini arttır\")\n",
    "\n",
    "    else:\n",
    "        print(f\"Girdiğiniz sayı : {tahmin}. {sayaç}. seferde bildiniz. Doğru tahmin. Tebrikler\")\n",
    "        \n",
    "        break"
   ]
  },
  {
   "cell_type": "code",
   "execution_count": 49,
   "metadata": {},
   "outputs": [
    {
     "name": "stdout",
     "output_type": "stream",
     "text": [
      "Girdiğiniz sayı : 95. Tahminini azalt\n",
      "Girdiğiniz sayı : 75. Tahminini arttır\n",
      "Girdiğiniz sayı : 25. Tahminini arttır\n",
      "Girdiğiniz sayı : 15. Tahminini arttır\n",
      "Girdiğiniz sayı : 75. Tahminini arttır\n",
      "5 hakkınız tükenmiştir. sayı 87\n"
     ]
    }
   ],
   "source": [
    "aklımdaki_sayı = random.randint(1,100)\n",
    "\n",
    "sayaç = 0\n",
    "\n",
    "while True:\n",
    "    \n",
    "    tahmin = int(input(\"1 ile 100 arasında bir sayı yazınız. 5 hakkınız vardır\"))\n",
    "\n",
    "    sayaç += 1\n",
    "\n",
    "    if aklımdaki_sayı < tahmin:\n",
    "        print(f\"Girdiğiniz sayı : {tahmin}. Tahminini azalt\")   \n",
    "\n",
    "    elif aklımdaki_sayı > tahmin:\n",
    "        print(f\"Girdiğiniz sayı : {tahmin}. Tahminini arttır\")\n",
    "\n",
    "    else:\n",
    "        print(f\"Girdiğiniz sayı : {tahmin}. {sayaç}. seferde bildiniz. Doğru tahmin. Tebrikler\")\n",
    "        \n",
    "        break\n",
    "\n",
    "    if sayaç == 5:\n",
    "        print(f\"5 hakkınız tükenmiştir. sayı {aklımdaki_sayı}\")\n",
    "        break"
   ]
  },
  {
   "cell_type": "code",
   "execution_count": 50,
   "metadata": {},
   "outputs": [
    {
     "name": "stdout",
     "output_type": "stream",
     "text": [
      "Girdiğiniz sayı : 5. Tahminini arttır\n",
      "Girdiğiniz sayı : 88. Tahminini azalt\n",
      "Girdiğiniz sayı : 45. Tahminini arttır\n",
      "Girdiğiniz sayı : 65. Tahminini arttır\n",
      "Girdiğiniz sayı : 75. Tahminini arttır\n",
      "5 hakkın bitti. sayı 78\n"
     ]
    }
   ],
   "source": [
    "import time\n",
    "aklımdaki_sayı = random.randint(1,100)\n",
    "\n",
    "time.sleep(2)  #kodun gelmesini 2 saniye geciktiriyor ama bu sayede arada görünmeyen çıktı olmuyor\n",
    "\n",
    "sayaç = 0\n",
    "\n",
    "while True:\n",
    "\n",
    "    tahmin = int(input(\"1 ile 100 arasında bir sayı tahmin edin.\"))\n",
    "\n",
    "    sayaç += 1\n",
    "\n",
    "    time.sleep(2)\n",
    "\n",
    "    if aklımdaki_sayı < tahmin:\n",
    "        print(f\"Girdiğiniz sayı : {tahmin}. Tahminini azalt\")\n",
    "\n",
    "    elif aklımdaki_sayı > tahmin:\n",
    "        print(f\"Girdiğiniz sayı : {tahmin}. Tahminini arttır\")\n",
    "\n",
    "    else:\n",
    "        print(f\"Girdiğiniz sayı : {tahmin}. Doğru bildiniz. Tebrikler. \")\n",
    "        break\n",
    "\n",
    "    time.sleep(2)\n",
    "\n",
    "    if sayaç == 5:\n",
    "        print(f\"5 hakkın bitti. sayı {aklımdaki_sayı}\")\n",
    "        break"
   ]
  },
  {
   "cell_type": "code",
   "execution_count": 18,
   "metadata": {},
   "outputs": [
    {
     "name": "stdout",
     "output_type": "stream",
     "text": [
      "10\n"
     ]
    }
   ],
   "source": [
    "liste = [1, 2, 3, 4, \"techpro\", 5, 6, 7]  # sırayla int değerleri toplayıp str ifadeye denk geldiğinde kodu sonlandıran fonsiyonu yazın\n",
    "x = 0\n",
    "toplam= 0\n",
    "while x < len(liste):\n",
    "\n",
    "    if type(liste[x]) == int:\n",
    "        toplam += liste[x]\n",
    "\n",
    "    elif type(liste[x]) == str:\n",
    "        break\n",
    "    x += 1\n",
    "print(toplam)"
   ]
  },
  {
   "cell_type": "code",
   "execution_count": 55,
   "metadata": {},
   "outputs": [
    {
     "name": "stdout",
     "output_type": "stream",
     "text": [
      "10\n"
     ]
    }
   ],
   "source": [
    "liste = [1, 2, 3, 4, \"techpro\", 5, 6, 7]  # sırayla int değerleri toplayıp str ifadeye denk geldiğinde kodu sonlandıran fonsiyonu yazın\n",
    "\n",
    "x = 0\n",
    "\n",
    "toplam = 0\n",
    "\n",
    "while x < len(liste):\n",
    "    \n",
    "    if type(liste[x]) == int:\n",
    "        toplam += liste[x]\n",
    "\n",
    "    else:                        #Alternatifi elif type(liste[x]) == str: olurdu\n",
    "        break\n",
    "    \n",
    "    x += 1\n",
    "\n",
    "print(toplam)"
   ]
  },
  {
   "cell_type": "code",
   "execution_count": 57,
   "metadata": {},
   "outputs": [
    {
     "name": "stdout",
     "output_type": "stream",
     "text": [
      "28\n"
     ]
    }
   ],
   "source": [
    "liste = [1, 2, 3, 4, \"techpro\", 5, 6, 7]  # sırayla int değerleri toplayıp str ifadeye denk geldiğinde o ifadeyi atlayın ve devam edin\n",
    "\n",
    "x = 0\n",
    "\n",
    "toplam = 0\n",
    "\n",
    "while x < len(liste):\n",
    "    \n",
    "    if type(liste[x]) == int:\n",
    "        toplam += liste[x]\n",
    "\n",
    "    else:\n",
    "        x += 1\n",
    "        continue\n",
    "    \n",
    "    x += 1\n",
    "\n",
    "print(toplam)\n",
    "\n"
   ]
  },
  {
   "cell_type": "code",
   "execution_count": 24,
   "metadata": {},
   "outputs": [
    {
     "name": "stdout",
     "output_type": "stream",
     "text": [
      "28\n"
     ]
    }
   ],
   "source": [
    "liste = [1, 2, 3, 4, \"techpro\", 5, 6, 7]  # sırayla int değerleri toplayıp str ifadeye denk geldiğinde o ifadeyi atlayın ve devam edin.\n",
    "x = 0\n",
    "toplam= 0\n",
    "while x < len(liste):\n",
    "\n",
    "    if type(liste[x]) == int:\n",
    "        toplam += liste[x]\n",
    "    x += 1\n",
    "    \n",
    "print(toplam)"
   ]
  },
  {
   "cell_type": "markdown",
   "metadata": {},
   "source": [
    "## min(), max()"
   ]
  },
  {
   "cell_type": "code",
   "execution_count": 62,
   "metadata": {},
   "outputs": [],
   "source": [
    "liste = [2, 5, 1, 3, 9, 4, 6, 8, 15, 48, 256]"
   ]
  },
  {
   "cell_type": "code",
   "execution_count": 59,
   "metadata": {},
   "outputs": [
    {
     "data": {
      "text/plain": [
       "1"
      ]
     },
     "execution_count": 59,
     "metadata": {},
     "output_type": "execute_result"
    }
   ],
   "source": [
    "min(liste)"
   ]
  },
  {
   "cell_type": "code",
   "execution_count": 60,
   "metadata": {},
   "outputs": [
    {
     "data": {
      "text/plain": [
       "256"
      ]
     },
     "execution_count": 60,
     "metadata": {},
     "output_type": "execute_result"
    }
   ],
   "source": [
    "max(liste)"
   ]
  },
  {
   "cell_type": "code",
   "execution_count": 63,
   "metadata": {},
   "outputs": [],
   "source": [
    "tuple = (5,8,4,6,9)"
   ]
  },
  {
   "cell_type": "code",
   "execution_count": 64,
   "metadata": {},
   "outputs": [
    {
     "data": {
      "text/plain": [
       "4"
      ]
     },
     "execution_count": 64,
     "metadata": {},
     "output_type": "execute_result"
    }
   ],
   "source": [
    "min(tuple)"
   ]
  },
  {
   "cell_type": "code",
   "execution_count": 65,
   "metadata": {},
   "outputs": [
    {
     "data": {
      "text/plain": [
       "9"
      ]
     },
     "execution_count": 65,
     "metadata": {},
     "output_type": "execute_result"
    }
   ],
   "source": [
    "max(tuple)"
   ]
  },
  {
   "cell_type": "code",
   "execution_count": 66,
   "metadata": {},
   "outputs": [],
   "source": [
    "# liste_1 = [4,5,6,9,85,23,65,47,32,91] listenin en küçük ve en büyük elemanını min ve max fonksiyonu kullanmadan bulun. sort fonk da kullanmayın."
   ]
  },
  {
   "cell_type": "code",
   "execution_count": 25,
   "metadata": {},
   "outputs": [
    {
     "name": "stdout",
     "output_type": "stream",
     "text": [
      "En küçük eleman: 4\n",
      "En büyük eleman: 91\n"
     ]
    }
   ],
   "source": [
    "liste_1 = [4, 5, 6, 9, 85, 23, 65, 47, 32, 91]\n",
    "\n",
    "# En küçük elemanı bulma\n",
    "min_eleman = liste_1[0]\n",
    "for eleman in liste_1:\n",
    "    if eleman < min_eleman:\n",
    "        min_eleman = eleman\n",
    "\n",
    "# En büyük elemanı bulma\n",
    "max_eleman = liste_1[0]\n",
    "for eleman in liste_1:\n",
    "    if eleman > max_eleman:\n",
    "        max_eleman = eleman\n",
    "\n",
    "print(\"En küçük eleman:\", min_eleman)\n",
    "print(\"En büyük eleman:\", max_eleman)"
   ]
  },
  {
   "cell_type": "code",
   "execution_count": 2,
   "metadata": {},
   "outputs": [
    {
     "name": "stdout",
     "output_type": "stream",
     "text": [
      "max eleman: 91\n",
      "min eleman: 4\n"
     ]
    }
   ],
   "source": [
    "liste_1 = [4, 5, 6, 9, 85, 23, 65, 47, 32, 91]\n",
    "\n",
    "min_eleman = liste_1[0]\n",
    "for eleman in liste_1:\n",
    "    if eleman < min_eleman:\n",
    "        eleman = min_eleman\n",
    "\n",
    "max_eleman = liste_1[0]\n",
    "for eleman in liste_1:\n",
    "    if eleman > max_eleman:\n",
    "        max_eleman = eleman\n",
    "\n",
    "print(f\"max eleman: {max_eleman}\")\n",
    "print(f\"min eleman: {min_eleman}\")"
   ]
  },
  {
   "cell_type": "code",
   "execution_count": 12,
   "metadata": {},
   "outputs": [
    {
     "name": "stdout",
     "output_type": "stream",
     "text": [
      "min eleman: 4\n",
      "max eleman: 91\n"
     ]
    }
   ],
   "source": [
    "liste_1 = [4, 5, 6, 9, 85, 23, 65, 47, 32, 91]\n",
    "\n",
    "min_eleman = liste_1[0]\n",
    "max_eleman = liste_1[0]\n",
    "x = 0\n",
    "while x < len(liste_1):\n",
    "    if liste_1[x] < min_eleman:\n",
    "        min_eleman = liste_1[x]\n",
    "    elif liste_1[x] > max_eleman:\n",
    "        max_eleman = liste_1[x]\n",
    "    x += 1\n",
    "\n",
    "print(f\"min eleman: {min_eleman}\")\n",
    "print(f\"max eleman: {max_eleman}\")"
   ]
  },
  {
   "cell_type": "code",
   "execution_count": null,
   "metadata": {},
   "outputs": [],
   "source": []
  }
 ],
 "metadata": {
  "kernelspec": {
   "display_name": "Python 3",
   "language": "python",
   "name": "python3"
  },
  "language_info": {
   "codemirror_mode": {
    "name": "ipython",
    "version": 3
   },
   "file_extension": ".py",
   "mimetype": "text/x-python",
   "name": "python",
   "nbconvert_exporter": "python",
   "pygments_lexer": "ipython3",
   "version": "3.11.8"
  }
 },
 "nbformat": 4,
 "nbformat_minor": 2
}
